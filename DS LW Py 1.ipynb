{
 "cells": [
  {
   "cell_type": "code",
   "execution_count": 1,
   "metadata": {},
   "outputs": [
    {
     "name": "stdout",
     "output_type": "stream",
     "text": [
      "Наш список: [15, 16, 40, 24, 26, 47, 49], сумма элементов больших 10: 217\n"
     ]
    }
   ],
   "source": [
    "#1. Дан произвольный список, содержащий только числа. Выведите результат сложения всех чисел больше 10. \n",
    "import random\n",
    "\n",
    "random_numbers = []\n",
    "for i in range(0,7):\n",
    "    x = random.randint(1,50)\n",
    "    random_numbers.append(x)\n",
    "\n",
    "sum_of_numbers = 0\n",
    "for number in random_numbers:\n",
    "    if number > 10:\n",
    "        sum_of_numbers += number\n",
    "        \n",
    "print('Наш список: {}, сумма элементов больших 10: {}'.format(random_numbers, sum_of_numbers))"
   ]
  },
  {
   "cell_type": "code",
   "execution_count": 2,
   "metadata": {},
   "outputs": [
    {
     "name": "stdout",
     "output_type": "stream",
     "text": [
      "Наш список: [15, 16, 40, 24, 26, 47, 49], сумма элементов больших 10: 217\n"
     ]
    }
   ],
   "source": [
    "#1.1\n",
    "import numpy as np\n",
    "numpy_numbers = np.array(random_numbers)\n",
    "greater_10 = numpy_numbers[numpy_numbers>10]\n",
    "sum_of_numbers = sum(greater_10)\n",
    "print('Наш список: {}, сумма элементов больших 10: {}'.format(random_numbers, sum_of_numbers))"
   ]
  },
  {
   "cell_type": "code",
   "execution_count": 3,
   "metadata": {},
   "outputs": [
    {
     "name": "stdout",
     "output_type": "stream",
     "text": [
      "dwdw ww ddwwr\n",
      "waaaes sa sssddr\n",
      "dwdw ww ddwwr\n",
      "waaaes sa sssddr\n"
     ]
    }
   ],
   "source": [
    "#2. Пусть задан список, содержащий строки. Выведите все строки, заканчивающиеся буквой r.\n",
    "\n",
    "data = ['title', 'film', 'dwdw ww ddwwr','waaaes sa sssddr', 'wwaas dds vvrraaw']\n",
    "\n",
    "#первый способ\n",
    "for string in data:\n",
    "    if string.endswith('r'):\n",
    "        print(string)\n",
    "\n",
    "#второй способ\n",
    "for string in data:\n",
    "    if string[len(string)-1:] == 'r':\n",
    "        print(string)"
   ]
  },
  {
   "cell_type": "code",
   "execution_count": 4,
   "metadata": {},
   "outputs": [
    {
     "data": {
      "text/plain": [
       "'377655'"
      ]
     },
     "execution_count": 4,
     "metadata": {},
     "output_type": "execute_result"
    }
   ],
   "source": [
    "#3. Сгенерируйте и выведите cлучайную строку размером 6 символов, содержащую только цифры. Строка должна\n",
    "#содержать хотя бы одну цифру 3\n",
    "import random\n",
    "string_length = 6\n",
    "\n",
    "def string_with_random_numbers(string_length):\n",
    "    list_of_numbers = []\n",
    "    for i in range(0,string_length):\n",
    "        x = random.randint(0,9)\n",
    "        list_of_numbers.append(str(x))\n",
    "        \n",
    "    if '3' in list_of_numbers:\n",
    "        return ''.join(list_of_numbers)\n",
    "    else:\n",
    "        print('Yes')\n",
    "        x = random.randint(0,string_length-1)\n",
    "        list_of_numbers[x] = '3'\n",
    "        return ''.join(list_of_numbers)\n",
    "\n",
    "string_with_random_numbers(string_length)"
   ]
  },
  {
   "cell_type": "code",
   "execution_count": 5,
   "metadata": {
    "scrolled": true
   },
   "outputs": [
    {
     "name": "stdout",
     "output_type": "stream",
     "text": [
      "Наша строка:  wweqe, qwe wqwqewse. Wwqqq, ioi, wwqsdas, z ytwwe -! ReR!\n",
      "Количество символов с разделителями 57\n",
      "Наша строка без разделителей: wweqeqwewqwqewseWwqqqioiwwqsdaszytwweReR\n",
      "Количество символов без разделителей: 40, Количество слов: 9.\n",
      "Слова: ['wweqe', 'qwe', 'wqwqewse', 'Wwqqq', 'ioi', 'wwqsdas', 'z', 'ytwwe', 'ReR']\n"
     ]
    }
   ],
   "source": [
    "#4. Пусть дана строка произвольной длины. Выведите информацию о том, сколько в ней символов и сколько слов.\n",
    "\n",
    "string = 'wweqe, qwe wqwqewse. Wwqqq, ioi, wwqsdas, z ytwwe -! ReR!'\n",
    "print('Наша строка: ', string)\n",
    "print('Количество символов с разделителями', len(string))\n",
    "\n",
    "#получим список из слов без разделителей\n",
    "words = string.replace('.',' ').replace(',',' ').replace('!',' ').replace('-',' ').split()\n",
    "\n",
    "words_count = len(words) #количество слов\n",
    "\n",
    "joined_string = ''.join(words) #получаем строку без разделителей\n",
    "\n",
    "print('Наша строка без разделителей: {}'.format(joined_string))\n",
    "print('Количество символов без разделителей: {}, Количество слов: {}.'.format(len(joined_string), words_count))\n",
    "print('Слова: {}'.format(words))"
   ]
  },
  {
   "cell_type": "code",
   "execution_count": 6,
   "metadata": {},
   "outputs": [
    {
     "name": "stdout",
     "output_type": "stream",
     "text": [
      "Наша строка без разделителей: wweqeqwewqwqewseWwqqqioiwwqsdaszytwweReR\n",
      "Количество символов без разделителей: 40, Количество слов: 9.\n",
      "Слова: ['wweqe', 'qwe', 'wqwqewse', 'Wwqqq', 'ioi', 'wwqsdas', 'z', 'ytwwe', 'ReR']\n"
     ]
    }
   ],
   "source": [
    "#4.1. Более универсальный вариант.\n",
    "from nltk.tokenize import RegexpTokenizer\n",
    "tokenizer = RegexpTokenizer(r'\\w+')\n",
    "words = tokenizer.tokenize(string)\n",
    "joined_string = ''.join(words)\n",
    "print('Наша строка без разделителей: {}'.format(joined_string))\n",
    "print('Количество символов без разделителей: {}, Количество слов: {}.'.format(len(joined_string), words_count))\n",
    "print('Слова: {}'.format(words))"
   ]
  },
  {
   "cell_type": "code",
   "execution_count": 7,
   "metadata": {},
   "outputs": [],
   "source": [
    "#1. Пусть дана матрица чисел размером NхN. Представьте данную матрицу в виде списка. Выведите результат сложения\n",
    "#всех элементов матрицы.\n",
    "\n",
    "import random\n",
    "#создадим матрицу случайных элементов от 1 до 50 с помощью random. Обернем это в отдельную функцию\n",
    "def matrix(N, M):\n",
    "    matrix = []\n",
    "    i = 0\n",
    "    for i in range(0,N):\n",
    "        list_of_numbers = []\n",
    "    \n",
    "        for i in range(0,M):\n",
    "            x = random.randint(1,50)\n",
    "            list_of_numbers.append(x)\n",
    "        \n",
    "        matrix.append(list_of_numbers)\n",
    "    return matrix"
   ]
  },
  {
   "cell_type": "code",
   "execution_count": 8,
   "metadata": {},
   "outputs": [
    {
     "name": "stdout",
     "output_type": "stream",
     "text": [
      "Введите число размер матрицы N: 4\n",
      "Наша матрица NxN: [[25, 43, 29, 6], [34, 5, 18, 13], [39, 2, 41, 35], [24, 7, 16, 44]]\n",
      "Cумма элементов матрицы: 430\n"
     ]
    }
   ],
   "source": [
    "N = int(input('Введите число размер матрицы N: ', ))\n",
    "\n",
    "#теперь посчитаем сумму всех ее элементов\n",
    "elements_sum = 0\n",
    "for string in matrix(N, N):\n",
    "    elements_sum += sum(string)\n",
    "\n",
    "print('Наша матрица NxN: {}'.format(matrix(N,N)))\n",
    "print('Cумма элементов матрицы: {}'.format(elements_sum))"
   ]
  },
  {
   "cell_type": "code",
   "execution_count": 9,
   "metadata": {},
   "outputs": [
    {
     "name": "stdout",
     "output_type": "stream",
     "text": [
      "Введите число размер матрицы N: 4\n",
      "Наша матрица NxN: \n",
      "[[39 15 43 49]\n",
      " [40  7 44 12]\n",
      " [47 34 17 33]\n",
      " [22  6  1 40]]\n",
      "Cумма элементов матрицы: 449\n"
     ]
    }
   ],
   "source": [
    "#1.1. Вариант с numpy.\n",
    "import numpy as np\n",
    "N = int(input('Введите число размер матрицы N: ', ))\n",
    "\n",
    "matrix_rand = np.random.randint(1, 50, (N, N))\n",
    "array = matrix_rand.flatten()\n",
    "print('Наша матрица NxN: \\n{}'.format(matrix_rand))\n",
    "print('Cумма элементов матрицы: {}'.format(sum(array)))"
   ]
  },
  {
   "cell_type": "code",
   "execution_count": 10,
   "metadata": {
    "scrolled": true
   },
   "outputs": [
    {
     "name": "stdout",
     "output_type": "stream",
     "text": [
      "Введите число строк матрицы N: 4\n",
      "Введите число столбцов матрицы M: 5\n",
      "Cамая большая сумма элементов в столбцах: 128, сам слолбец: (28, 43, 33, 24).\n",
      "Транспонированная матрица: [(39, 8, 29, 37), (41, 20, 34, 13), (32, 36, 2, 34), (28, 43, 33, 24), (37, 26, 37, 7)]\n",
      "Изначальная матрица: [[39, 41, 32, 28, 37], [8, 20, 36, 43, 26], [29, 34, 2, 33, 37], [37, 13, 34, 24, 7]]\n"
     ]
    }
   ],
   "source": [
    "#2. Пусть дана матрица чисел размером NхM. Найти столбец матрицы с максимальной суммой элементов.\n",
    "\n",
    "N = int(input('Введите число строк матрицы N: ', ))\n",
    "M = int(input('Введите число столбцов матрицы M: ', ))\n",
    "\n",
    "n_matrix = matrix(N, M)\n",
    "\n",
    "#транспонируем матрицу с помощью zip\n",
    "transposed_matrix = list(zip(*n_matrix))\n",
    "max_sum = 0\n",
    "for string in transposed_matrix:\n",
    "    if sum(string) > max_sum:\n",
    "        max_sum = sum(string)\n",
    "        max_column = string\n",
    "\n",
    "print('Cамая большая сумма элементов в столбцах: {}, сам слолбец: {}.'.format(max_sum, max_column))\n",
    "print('Транспонированная матрица: {}'.format(transposed_matrix))\n",
    "print('Изначальная матрица: {}'.format(n_matrix))"
   ]
  },
  {
   "cell_type": "code",
   "execution_count": 11,
   "metadata": {
    "scrolled": true
   },
   "outputs": [
    {
     "name": "stdout",
     "output_type": "stream",
     "text": [
      "Введите число строк матрицы N: 4\n",
      "Введите число столбцов матрицы M: 5\n",
      "Cамая большая сумма элементов в столбцах: 131, сам слолбец: [38 38 47  8].\n",
      "Изначальная матрица: \n",
      "[[19 15 38  5 11]\n",
      " [ 6 11 38 20  3]\n",
      " [27 44 47 27 13]\n",
      " [43 46  8 15  6]]\n",
      "Транспонированная матрица: \n",
      "[[19  6 27 43]\n",
      " [15 11 44 46]\n",
      " [38 38 47  8]\n",
      " [ 5 20 27 15]\n",
      " [11  3 13  6]]\n"
     ]
    }
   ],
   "source": [
    "#2.1. Вариант с использованием numpy.\n",
    "import numpy as np\n",
    "N = int(input('Введите число строк матрицы N: ', ))\n",
    "M = int(input('Введите число столбцов матрицы M: ', ))\n",
    "\n",
    "matrix_rand = np.random.randint(1, 50, (N, M))\n",
    "number = matrix_rand.sum(axis=0).argmax()\n",
    "max_column = matrix_rand.T[number]\n",
    "\n",
    "print('Cамая большая сумма элементов в столбцах: {}, сам слолбец: {}.'.format(sum(max_column), max_column))\n",
    "print('Изначальная матрица: \\n{}'.format(matrix_rand))\n",
    "print('Транспонированная матрица: \\n{}'.format(matrix_rand.T))"
   ]
  },
  {
   "cell_type": "code",
   "execution_count": 12,
   "metadata": {},
   "outputs": [
    {
     "data": {
      "text/plain": [
       "{1: ['Иванов', 18, 'НФ-101'],\n",
       " 2: ['Свердлов', 20, 'НФ-301'],\n",
       " 3: ['Сидоров', 19, 'НФ-201']}"
      ]
     },
     "execution_count": 12,
     "metadata": {},
     "output_type": "execute_result"
    }
   ],
   "source": [
    "#1. Пусть список студентов представлен в виде структуры [[No, ФИО, Возраст,Группа],[No, ФИО, Возраст, Группа],[No, ФИО,\n",
    "#Возраст, Группа]]. Преобразуйте список в словарь вида: {No: [ФИО, Возраст, Группа], No:[....], No: [....]}\n",
    "\n",
    "data = [[1, 'Иванов', 18, 'НФ-101'], [2, 'Свердлов', 20, 'НФ-301'],[3, 'Сидоров', 19, 'НФ-201']]\n",
    "dict_data = {}\n",
    "\n",
    "for i in range(0,len(data)):\n",
    "    dict_data[data[i][0]] = data[i][1:4]\n",
    "    \n",
    "dict_data"
   ]
  },
  {
   "cell_type": "code",
   "execution_count": 13,
   "metadata": {},
   "outputs": [
    {
     "name": "stdout",
     "output_type": "stream",
     "text": [
      "Введите фамилию студента: Свердлов\n",
      "Введите новый номер группы: НФ-401\n",
      "Введите новый возраст студента: 21\n",
      "{1: ['Иванов', 18, 'НФ-101'], 2: ['Свердлов', 21, 'НФ-401'], 3: ['Сидоров', 19, 'НФ-201']}\n"
     ]
    }
   ],
   "source": [
    "#2. Добавьте к задаче No6 для словаря возможность (без преобразования словаря обратно в список) изменить группу\n",
    "#студента. Поиск по «ФИО» («ФИО» студента и новый номер группы необходимо ввести с клавиатуры).\n",
    "#3. Добавьте к задаче No6 для словаря возможность (без преобразования словаря обратно в список) изменить возраст\n",
    "#студента.\n",
    "\n",
    "name = input('Введите фамилию студента: ', )\n",
    "number_of_group = input('Введите новый номер группы: ')\n",
    "age = input('Введите новый возраст студента: ')\n",
    "\n",
    "for keys, values in dict_data.items():\n",
    "    if values[0] == name:\n",
    "        values[2] = number_of_group\n",
    "        try:\n",
    "            if int(age) >= 17 and int(age) < 100:\n",
    "                values[1] = int(age)\n",
    "            else:\n",
    "                print('Неверно введен возраст')\n",
    "        except:\n",
    "            print('Неверно введен возраст')\n",
    "print(dict_data)"
   ]
  },
  {
   "cell_type": "code",
   "execution_count": null,
   "metadata": {},
   "outputs": [],
   "source": []
  }
 ],
 "metadata": {
  "kernelspec": {
   "display_name": "Python 3",
   "language": "python",
   "name": "python3"
  },
  "language_info": {
   "codemirror_mode": {
    "name": "ipython",
    "version": 3
   },
   "file_extension": ".py",
   "mimetype": "text/x-python",
   "name": "python",
   "nbconvert_exporter": "python",
   "pygments_lexer": "ipython3",
   "version": "3.6.4"
  }
 },
 "nbformat": 4,
 "nbformat_minor": 2
}
