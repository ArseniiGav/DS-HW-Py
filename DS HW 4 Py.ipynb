{
 "cells": [
  {
   "cell_type": "code",
   "execution_count": 2,
   "metadata": {},
   "outputs": [
    {
     "name": "stdout",
     "output_type": "stream",
     "text": [
      "Введите начальную дату в формате YYYY-MM-DD: 2018-12-08\n",
      "Введите конечную дату в формате YYYY-MM-DD: 2018-12-13\n"
     ]
    },
    {
     "data": {
      "text/plain": [
       "['2018-12-08',\n",
       " '2018-12-09',\n",
       " '2018-12-10',\n",
       " '2018-12-11',\n",
       " '2018-12-12',\n",
       " '2018-12-13']"
      ]
     },
     "execution_count": 2,
     "metadata": {},
     "output_type": "execute_result"
    }
   ],
   "source": [
    "#Задание 1\n",
    "#Напишите функцию date_range, которая возвращает список дней между датами start_date и end_date.\n",
    "#Даты должны вводиться в формате YYYY-MM-DD.\n",
    "\n",
    "#Задание 2\n",
    "#Дополните функцию из первого задания проверкой на корректность дат.\n",
    "#В случае неверного формата или если start_date > end_date должен возвращаться пустой список.\n",
    "\n",
    "#обьединим эти два задания в одно.\n",
    "\n",
    "from datetime import datetime\n",
    "from datetime import timedelta\n",
    "\n",
    "\n",
    "def date_range(start_date, end_date):\n",
    "    \"\"\"\n",
    "    Функция принимает на вход начальную дату и конечную \n",
    "    и выводит список дней между этими датами.\n",
    "    В случае неверного формате - пустой список.\n",
    "    \n",
    "    Примеры корректной работы:\n",
    "    Введите начальную дату в формате YYYY-MM-DD: 2018-12-29\n",
    "    Введите конечную дату в формате YYYY-MM-DD: 2019-01-01\n",
    "    ['2018-12-29', '2018-12-30', '2018-12-31', '2019-01-01']\n",
    "    \n",
    "    Примеры ошибок:\n",
    "    Введите начальную дату в формате YYYY-MM-DD: 2020-12-09\n",
    "    Введите конечную дату в формате YYYY-MM-DD: 2019-12-08\n",
    "    Начальная дата больше, чем конечная!\n",
    "    []\n",
    "    \n",
    "    Введите начальную дату в формате YYYY-MM-DD: 2019-13-22\n",
    "    Введите конечную дату в формате YYYY-MM-DD: 2020-01-01\n",
    "    Неверно введена дата!\n",
    "    []\n",
    "    \"\"\"\n",
    "    try:\n",
    "        start_date_dt = datetime.strptime(start_date, '%Y-%m-%d')\n",
    "        end_date_dt = datetime.strptime(end_date, '%Y-%m-%d')\n",
    "        \n",
    "    except ValueError:\n",
    "        print('Неверно введена дата!')\n",
    "        return []\n",
    "    \n",
    "    if start_date > end_date:\n",
    "        print('Начальная дата больше, чем конечная!')\n",
    "        return []\n",
    "    \n",
    "    current_date = start_date_dt\n",
    "    \n",
    "    # в цикле можно заменить на строгое неравенство, если не требуется, чтобы в списке была конечная дата.\n",
    "    current_date_list = []\n",
    "    while current_date.strftime('%Y-%m-%d') <= end_date:\n",
    "        current_date_list.append(current_date.strftime('%Y-%m-%d'))\n",
    "        current_date += timedelta(days=1)\n",
    "    return current_date_list\n",
    "\n",
    "def input_date_1():\n",
    "    start_date = input('Введите начальную дату в формате YYYY-MM-DD: ', )\n",
    "    end_date = input('Введите конечную дату в формате YYYY-MM-DD: ', )\n",
    "    return date_range(start_date, end_date)\n",
    "\n",
    "input_date_1()"
   ]
  },
  {
   "cell_type": "code",
   "execution_count": 6,
   "metadata": {
    "scrolled": true
   },
   "outputs": [
    {
     "name": "stdout",
     "output_type": "stream",
     "text": [
      "True Дата: 2018-04-02 является корректной\n",
      "False Дата: 2018-02-29 является некорректной\n",
      "False Дата: 2018-19-02 является некорректной\n"
     ]
    },
    {
     "data": {
      "text/plain": [
       "[True, False, False]"
      ]
     },
     "execution_count": 6,
     "metadata": {},
     "output_type": "execute_result"
    }
   ],
   "source": [
    "#Задание 3\n",
    "#Дан поток дат в формате YYYY-MM-DD, в которых встречаются некорректные значения:\n",
    "#stream = ['2018-04-02', '2018-02-29', '2018-19-02']\n",
    "\n",
    "#Напишите функцию, которая проверяет эти даты на корректность.\n",
    "#Т. е. для каждой даты возвращает True (дата корректна) или False (некорректная дата). \n",
    "\n",
    "stream = ['2018-04-02', '2018-02-29', '2018-19-02']\n",
    "\n",
    "def correct_check(stream):\n",
    "    \"\"\"\n",
    "    Функция принимает на вход список дат.\n",
    "    Возвращает список с булевыми значениями, который сопоставляется каждой дате\n",
    "    последовательно (True = дата корректна, False = дата некорректна).\n",
    "    А также выводит на экран сами даты и их характеристики.\n",
    "    \n",
    "    stream = ['2018-04-02', '2018-02-29', '2018-19-02']\n",
    "    True Дата: 2018-04-02 является корректной\n",
    "    False Дата: 2018-02-29 является некорректной\n",
    "    False Дата: 2018-19-02 является некорректной\n",
    "    [True, False, False]\n",
    "    \"\"\"\n",
    "    \n",
    "    #для больших списков print() будет, наверно, лишним, поэтому ему можно будет убрать\n",
    "    list_with_check = []\n",
    "    for date in stream:\n",
    "        try:\n",
    "            date_dt = datetime.strptime(date, '%Y-%m-%d')\n",
    "            print(True, 'Дата: {} является корректной'.format(date))\n",
    "            list_with_check.append(True)\n",
    "            \n",
    "        except ValueError:\n",
    "            print(False, 'Дата: {} является некорректной'.format(date))\n",
    "            list_with_check.append(False)\n",
    "\n",
    "    return list_with_check\n",
    "\n",
    "correct_check(stream)"
   ]
  },
  {
   "cell_type": "code",
   "execution_count": 7,
   "metadata": {
    "scrolled": true
   },
   "outputs": [
    {
     "data": {
      "text/plain": [
       "['2018-12-01',\n",
       " '2018-12-02',\n",
       " '2018-12-03',\n",
       " '2018-12-04',\n",
       " '2018-12-05',\n",
       " '2018-12-06',\n",
       " '2018-12-07',\n",
       " '2018-12-08']"
      ]
     },
     "execution_count": 7,
     "metadata": {},
     "output_type": "execute_result"
    }
   ],
   "source": [
    "#Задание 4\n",
    "#Напишите функцию, которая возвращает список дат с 1 по вчерашний день текущего месяца.\n",
    "#Если дан 1 день месяца, то возвращается список дней прошлого месяца.\n",
    "\n",
    "def now_date_range():\n",
    "    \"\"\"\n",
    "    Функция выводит список дат с первого число по вчерашний день текущего месяца.\n",
    "    Если сегодня первое число, то функция возвращает список дат предыдущего месяца.\n",
    "    \n",
    "    datetime(2018, 12, 8)\n",
    "    ['2018-12-01', ..., '2018-12-07']\n",
    "    \n",
    "    datetime.date(2018, 12, 1)\n",
    "    ['2018-11-01', ..., '2018-11-29', '2018-11-30']\n",
    "    \"\"\"\n",
    "    now_dt = datetime.today().date()\n",
    "    now_date = now_dt.strftime(\"%Y-%m-%d\")\n",
    "    current_date = datetime(now_dt.year, now_dt.month, 1)\n",
    "    \n",
    "    current_date_list = []\n",
    "    if now_dt.day > 1:\n",
    "        while current_date.strftime('%Y-%m-%d') < now_date:\n",
    "            current_date_list.append(current_date.strftime('%Y-%m-%d'))\n",
    "            current_date += timedelta(days=1)\n",
    "            \n",
    "    else:\n",
    "        new_now_dt = datetime(now_dt.year, now_dt.month-1, now_dt.day)\n",
    "        current_date = new_now_dt\n",
    "        while current_date.strftime('%Y-%m-%d') < now_date:\n",
    "            current_date_list.append(current_date.strftime('%Y-%m-%d'))\n",
    "            current_date += timedelta(days=1)\n",
    "            \n",
    "    return current_date_list\n",
    "\n",
    "now_date_range()"
   ]
  },
  {
   "cell_type": "code",
   "execution_count": 8,
   "metadata": {},
   "outputs": [
    {
     "name": "stdout",
     "output_type": "stream",
     "text": [
      "Введите одну из команд: today, last monday, last day. last day\n"
     ]
    },
    {
     "data": {
      "text/plain": [
       "'2018-12-31'"
      ]
     },
     "execution_count": 8,
     "metadata": {},
     "output_type": "execute_result"
    }
   ],
   "source": [
    "\"\"\"\n",
    "Задание 5\n",
    "Напишите функцию, которая возвращает точную дату в формате YYYY-MM-DD по фразе:\n",
    "1. 'today' - сегодняшнюю дату\n",
    "2. 'last monday' -  прошлый понедельник\n",
    "3. 'last day' - Последний день текущего месяца\n",
    "\"\"\"\n",
    "\n",
    "def your_command_date(command):\n",
    "    \"\"\"\n",
    "    В зависимости от команды возвращает сегодняшнюю дату,\n",
    "    прошлый понедельник (если сегодня понедельник, то возвращает тот пн, который был\n",
    "    неделю назад, последний день текущего месяца. \n",
    "    \n",
    "    today\n",
    "    '2018-12-08'\n",
    "    \n",
    "    last day\n",
    "    '2018-12-31'\n",
    "    \n",
    "    last monday\n",
    "    '2018-12-03'\n",
    "    \"\"\"\n",
    "    now_dt = datetime.today().date()\n",
    "    if command == 'today':\n",
    "        now_date = now_dt.strftime(\"%Y-%m-%d\")\n",
    "        return now_date\n",
    "    \n",
    "    elif command == 'last day':\n",
    "        if now_dt.month == 12:\n",
    "            current_date = datetime(now_dt.year+1, 1, 1)\n",
    "            current_date -= timedelta(days=1)\n",
    "        else:\n",
    "            current_date = datetime(now_dt.year, now_dt.month+1, 1)\n",
    "            current_date -= timedelta(days=1)\n",
    "        return current_date.strftime(\"%Y-%m-%d\")\n",
    "    \n",
    "    elif command == 'last monday':\n",
    "        diff = now_dt.weekday()\n",
    "        if diff == 0:\n",
    "            diff = 7\n",
    "        monday_date = now_dt - timedelta(days=diff)\n",
    "        return monday_date.strftime(\"%Y-%m-%d\")\n",
    "    else:\n",
    "        print('Нет такой команды, попрубуйте снова.')\n",
    "    pass\n",
    "\n",
    "\n",
    "def command_func():\n",
    "    command = input('Введите одну из команд: today, last monday, last day. ')\n",
    "    return your_command_date(command)\n",
    "    \n",
    "command_func()"
   ]
  },
  {
   "cell_type": "code",
   "execution_count": 12,
   "metadata": {
    "scrolled": true
   },
   "outputs": [
    {
     "name": "stdout",
     "output_type": "stream",
     "text": [
      "Введите начальную дату в формате YYYY-MM-DD: 2018-12-19\n",
      "Введите конечную дату в формате YYYY-MM-DD: 2019-01-06\n"
     ]
    },
    {
     "data": {
      "text/plain": [
       "[['2018-12-24',\n",
       "  '2018-12-25',\n",
       "  '2018-12-26',\n",
       "  '2018-12-27',\n",
       "  '2018-12-28',\n",
       "  '2018-12-29',\n",
       "  '2018-12-30'],\n",
       " ['2018-12-31',\n",
       "  '2019-01-01',\n",
       "  '2019-01-02',\n",
       "  '2019-01-03',\n",
       "  '2019-01-04',\n",
       "  '2019-01-05',\n",
       "  '2019-01-06']]"
      ]
     },
     "execution_count": 12,
     "metadata": {},
     "output_type": "execute_result"
    }
   ],
   "source": [
    "#Задание 6\n",
    "#Напишите функцию, которая разбивает на недели с понедельника по воскресенье интервал дат между start_date и end_date.\n",
    "#Считайте, что входные данные всегда корректны. В ответ должны входить только полные недели.\n",
    "\n",
    "def delimiter_by_weeks(start_date, end_date):\n",
    "    \"\"\"\n",
    "    Функция принимает на вход две даты в формате YYYY-MM-DD: начальную и конечную.\n",
    "    (Если первая дата больше второй, то возвращает пустой список!)\n",
    "    Возвращает список списков состоящих из дат недели с пн по вс. \n",
    "    Возвращает только полные недели.\n",
    "    \n",
    "    start_date = '2018-12-18'\n",
    "    end_date = '2018-12-31'\n",
    "    [['2018-12-24',\n",
    "      '2018-12-25',\n",
    "      '2018-12-26',\n",
    "      '2018-12-27',\n",
    "      '2018-12-28',\n",
    "      '2018-12-29',\n",
    "      '2018-12-30']]\n",
    "      \n",
    "    start_date = 2018-11-11\n",
    "    end_date = 2017-11-11\n",
    "    []\n",
    "    \"\"\"\n",
    "    \n",
    "    start_date_dt = datetime.strptime(start_date, '%Y-%m-%d')\n",
    "    end_date_dt = datetime.strptime(end_date, '%Y-%m-%d')\n",
    "    \n",
    "    current_date = start_date_dt\n",
    "    weeks = []\n",
    "    while current_date.strftime('%Y-%m-%d') <= end_date:\n",
    "        week = []\n",
    "        diff = 7 - current_date.weekday()\n",
    "        if diff == 0:\n",
    "            diff = 7\n",
    "        i = 0\n",
    "        while i < diff and current_date.strftime('%Y-%m-%d') <= end_date:\n",
    "            week.append(current_date.strftime('%Y-%m-%d'))\n",
    "            current_date += timedelta(days=1)\n",
    "            i += 1\n",
    "        if len(week) == 7: #требование полноты недели\n",
    "            weeks.append(week)\n",
    "    return weeks\n",
    "\n",
    "\n",
    "def input_date_2():\n",
    "    start_date = input('Введите начальную дату в формате YYYY-MM-DD: ', )\n",
    "    end_date = input('Введите конечную дату в формате YYYY-MM-DD: ', )\n",
    "    return delimiter_by_weeks(start_date, end_date)\n",
    "\n",
    "\n",
    "input_date_2()"
   ]
  },
  {
   "cell_type": "code",
   "execution_count": null,
   "metadata": {},
   "outputs": [],
   "source": []
  }
 ],
 "metadata": {
  "kernelspec": {
   "display_name": "Python 3",
   "language": "python",
   "name": "python3"
  },
  "language_info": {
   "codemirror_mode": {
    "name": "ipython",
    "version": 3
   },
   "file_extension": ".py",
   "mimetype": "text/x-python",
   "name": "python",
   "nbconvert_exporter": "python",
   "pygments_lexer": "ipython3",
   "version": "3.6.4"
  }
 },
 "nbformat": 4,
 "nbformat_minor": 2
}
