{
 "cells": [
  {
   "cell_type": "code",
   "execution_count": 13,
   "metadata": {},
   "outputs": [
    {
     "name": "stdout",
     "output_type": "stream",
     "text": [
      "Наш список: [18, 50, 2, 32, 10, 45, 37], сумма элементов больших 10: 182\n"
     ]
    }
   ],
   "source": [
    "#1. Дан произвольный список, содержащий только числа. Выведите результат сложения всех чисел больше 10. \n",
    "import random\n",
    "\n",
    "random_numbers = []\n",
    "for i in range(0,7):\n",
    "    x = random.randint(1,50)\n",
    "    random_numbers.append(x)\n",
    "\n",
    "sum_of_numbers = 0\n",
    "for number in random_numbers:\n",
    "    if number > 10:\n",
    "        sum_of_numbers += number\n",
    "        \n",
    "print('Наш список: {}, сумма элементов больших 10: {}'.format(random_numbers, sum_of_numbers))"
   ]
  },
  {
   "cell_type": "code",
   "execution_count": 14,
   "metadata": {},
   "outputs": [
    {
     "name": "stdout",
     "output_type": "stream",
     "text": [
      "dwdw ww ddwwr\n",
      "waaaes sa sssddr\n",
      "dwdw ww ddwwr\n",
      "waaaes sa sssddr\n"
     ]
    }
   ],
   "source": [
    "#2. Пусть задан список, содержащий строки. Выведите все строки, заканчивающиеся буквой r.\n",
    "\n",
    "data = ['title', 'film', 'dwdw ww ddwwr','waaaes sa sssddr', 'wwaas dds vvrraaw']\n",
    "\n",
    "#первый способ\n",
    "for string in data:\n",
    "    if string.endswith('r'):\n",
    "        print(string)\n",
    "\n",
    "#второй способ\n",
    "for string in data:\n",
    "    if string[len(string)-1:] == 'r':\n",
    "        print(string)"
   ]
  },
  {
   "cell_type": "code",
   "execution_count": 15,
   "metadata": {},
   "outputs": [
    {
     "name": "stdout",
     "output_type": "stream",
     "text": [
      "Yes\n"
     ]
    },
    {
     "data": {
      "text/plain": [
       "'447573'"
      ]
     },
     "execution_count": 15,
     "metadata": {},
     "output_type": "execute_result"
    }
   ],
   "source": [
    "#3. Сгенерируйте и выведите cлучайную строку размером 6 символов, содержащую только цифры. Строка должна\n",
    "#содержать хотя бы одну цифру 3\n",
    "import random\n",
    "string_length = 6\n",
    "\n",
    "def string_with_random_numbers(string_length):\n",
    "    list_of_numbers = []\n",
    "    for i in range(0,string_length):\n",
    "        x = random.randint(0,9)\n",
    "        list_of_numbers.append(str(x))\n",
    "        \n",
    "    if '3' in list_of_numbers:\n",
    "        return ''.join(list_of_numbers)\n",
    "    else:\n",
    "        print('Yes')\n",
    "        x = random.randint(0,string_length-1)\n",
    "        list_of_numbers[x] = '3'\n",
    "        return ''.join(list_of_numbers)\n",
    "\n",
    "string_with_random_numbers(string_length)"
   ]
  },
  {
   "cell_type": "code",
   "execution_count": 16,
   "metadata": {},
   "outputs": [
    {
     "name": "stdout",
     "output_type": "stream",
     "text": [
      "Наша строка:  wweqe, qwe wqwqewse. Wwqqq, ioi, wwqsdas, z ytwwe!\n",
      "Количество символов с разделителями 50\n",
      "Наша строка без разделителей: wweqeqwewqwqewseWwqqqioiwwqsdaszytwwe\n",
      "Количество символов без разделителей: 37, Количество слов: 8.\n",
      "Слова: ['wweqe', 'qwe', 'wqwqewse', 'Wwqqq', 'ioi', 'wwqsdas', 'z', 'ytwwe']\n"
     ]
    }
   ],
   "source": [
    "#4. Пусть дана строка произвольной длины. Выведите информацию о том, сколько в ней символов и сколько слов.\n",
    "\n",
    "string = 'wweqe, qwe wqwqewse. Wwqqq, ioi, wwqsdas, z ytwwe!'\n",
    "print('Наша строка: ', string)\n",
    "print('Количество символов с разделителями', len(string))\n",
    "\n",
    "#получим список из слов без разделителей\n",
    "words = string.replace('.',' ').replace(',',' ').replace('!',' ').split()\n",
    "\n",
    "words_count = len(words) #количество слов\n",
    "\n",
    "string = ''.join(words) #получаем строку без разделителей\n",
    "\n",
    "print('Наша строка без разделителей: {}'.format(string))\n",
    "print('Количество символов без разделителей: {}, Количество слов: {}.'.format(len(string), words_count))\n",
    "print('Слова: {}'.format(words))"
   ]
  },
  {
   "cell_type": "code",
   "execution_count": 17,
   "metadata": {},
   "outputs": [],
   "source": [
    "#1. Пусть дана матрица чисел размером NхN. Представьте данную матрицу в виде списка. Выведите результат сложения\n",
    "#всех элементов матрицы.\n",
    "\n",
    "import random\n",
    "#создадим матрицу случайных элементов от 1 до 50 с помощью random. Обернем это в отдельную функцию\n",
    "def matrix(N, M):\n",
    "    matrix = []\n",
    "    i = 0\n",
    "    for i in range(0,N):\n",
    "        list_of_numbers = []\n",
    "    \n",
    "        for i in range(0,M):\n",
    "            x = random.randint(1,50)\n",
    "            list_of_numbers.append(x)\n",
    "        \n",
    "        matrix.append(list_of_numbers)\n",
    "    return matrix"
   ]
  },
  {
   "cell_type": "code",
   "execution_count": 18,
   "metadata": {},
   "outputs": [
    {
     "name": "stdout",
     "output_type": "stream",
     "text": [
      "Введите число размер матрицы N: 4\n",
      "Наша матрица NxN: [[18, 11, 8, 16], [35, 39, 43, 8], [44, 26, 17, 28], [41, 23, 23, 23]]\n",
      "Cумма элементов матрицы: 422\n"
     ]
    }
   ],
   "source": [
    "N = int(input('Введите число размер матрицы N: ', ))\n",
    "\n",
    "#теперь посчитаем сумму всех ее элементов\n",
    "elements_sum = 0\n",
    "for string in matrix(N, N):\n",
    "    elements_sum += sum(string)\n",
    "\n",
    "print('Наша матрица NxN: {}'.format(matrix(N,N)))\n",
    "print('Cумма элементов матрицы: {}'.format(elements_sum))"
   ]
  },
  {
   "cell_type": "code",
   "execution_count": 19,
   "metadata": {
    "scrolled": true
   },
   "outputs": [
    {
     "name": "stdout",
     "output_type": "stream",
     "text": [
      "Введите число строк матрицы N: 4\n",
      "Введите число столбцов матрицы N: 3\n",
      "Cамая большая сумма элементов в столбцах: 144, сам слолбец: (39, 36, 50, 19).\n",
      "Транспонированная матрица: [(8, 12, 19, 29), (39, 36, 50, 19), (42, 34, 5, 2)]\n",
      "Изначальная матрица: [[8, 39, 42], [12, 36, 34], [19, 50, 5], [29, 19, 2]]\n"
     ]
    }
   ],
   "source": [
    "#2. Пусть дана матрица чисел размером NхM. Найти столбец матрицы с максимальной суммой элементов.\n",
    "\n",
    "N = int(input('Введите число строк матрицы N: ', ))\n",
    "M = int(input('Введите число столбцов матрицы N: ', ))\n",
    "\n",
    "n_matrix = matrix(N, M)\n",
    "\n",
    "#транспонируем матрицу с помощью zip\n",
    "transposed_matrix = list(zip(*n_matrix))\n",
    "max_sum = 0\n",
    "for string in transposed_matrix:\n",
    "    if sum(string) > max_sum:\n",
    "        max_sum = sum(string)\n",
    "        max_column = string\n",
    "\n",
    "print('Cамая большая сумма элементов в столбцах: {}, сам слолбец: {}.'.format(max_sum, max_column))\n",
    "print('Транспонированная матрица: {}'.format(transposed_matrix))\n",
    "print('Изначальная матрица: {}'.format(n_matrix))"
   ]
  },
  {
   "cell_type": "code",
   "execution_count": 20,
   "metadata": {},
   "outputs": [
    {
     "data": {
      "text/plain": [
       "{1: ['Иванов', 18, 'НФ-101'],\n",
       " 2: ['Свердлов', 20, 'НФ-301'],\n",
       " 3: ['Сидоров', 19, 'НФ-201']}"
      ]
     },
     "execution_count": 20,
     "metadata": {},
     "output_type": "execute_result"
    }
   ],
   "source": [
    "#1. Пусть список студентов представлен в виде структуры [[No, ФИО, Возраст,Группа],[No, ФИО, Возраст, Группа],[No, ФИО,\n",
    "#Возраст, Группа]]. Преобразуйте список в словарь вида: {No: [ФИО, Возраст, Группа], No:[....], No: [....]}\n",
    "\n",
    "data = [[1, 'Иванов', 18, 'НФ-101'], [2, 'Свердлов', 20, 'НФ-301'],[3, 'Сидоров', 19, 'НФ-201']]\n",
    "dict_data = {}\n",
    "\n",
    "for i in range(0,len(data)):\n",
    "    dict_data[data[i][0]] = data[i][1:4]\n",
    "    \n",
    "dict_data"
   ]
  },
  {
   "cell_type": "code",
   "execution_count": 21,
   "metadata": {},
   "outputs": [
    {
     "name": "stdout",
     "output_type": "stream",
     "text": [
      "Введите фамилию студента: Иванов\n",
      "Введите новый номер группы: НФ-401\n",
      "Введите новый возраст студента: 21\n",
      "{1: ['Иванов', 21, 'НФ-401'], 2: ['Свердлов', 20, 'НФ-301'], 3: ['Сидоров', 19, 'НФ-201']}\n"
     ]
    }
   ],
   "source": [
    "#2. Добавьте к задаче No6 для словаря возможность (без преобразования словаря обратно в список) изменить группу\n",
    "#студента. Поиск по «ФИО» («ФИО» студента и новый номер группы необходимо ввести с клавиатуры).\n",
    "#3. Добавьте к задаче No6 для словаря возможность (без преобразования словаря обратно в список) изменить возраст\n",
    "#студента.\n",
    "\n",
    "name = input('Введите фамилию студента: ', )\n",
    "number_of_group = input('Введите новый номер группы: ')\n",
    "age = input('Введите новый возраст студента: ')\n",
    "\n",
    "for keys, values in dict_data.items():\n",
    "    if values[0] == name:\n",
    "        values[2] = number_of_group\n",
    "        try:\n",
    "            if int(age) >= 17 and int(age) < 100:\n",
    "                values[1] = int(age)\n",
    "            else:\n",
    "                print('Неверно введен возраст')\n",
    "        except:\n",
    "            print('Неверно введен возраст')\n",
    "print(dict_data)"
   ]
  },
  {
   "cell_type": "code",
   "execution_count": null,
   "metadata": {},
   "outputs": [],
   "source": []
  }
 ],
 "metadata": {
  "kernelspec": {
   "display_name": "Python 3",
   "language": "python",
   "name": "python3"
  },
  "language_info": {
   "codemirror_mode": {
    "name": "ipython",
    "version": 3
   },
   "file_extension": ".py",
   "mimetype": "text/x-python",
   "name": "python",
   "nbconvert_exporter": "python",
   "pygments_lexer": "ipython3",
   "version": "3.6.4"
  }
 },
 "nbformat": 4,
 "nbformat_minor": 2
}
