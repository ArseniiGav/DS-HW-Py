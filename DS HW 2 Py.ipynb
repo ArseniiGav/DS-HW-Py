{
 "cells": [
  {
   "cell_type": "code",
   "execution_count": 38,
   "metadata": {},
   "outputs": [
    {
     "data": {
      "text/plain": [
       "[{'visit1': ['Москва', 'Россия']},\n",
       " {'visit3': ['Владимир', 'Россия']},\n",
       " {'visit7': ['Тула', 'Россия']},\n",
       " {'visit8': ['Тула', 'Россия']},\n",
       " {'visit9': ['Курск', 'Россия']},\n",
       " {'visit10': ['Архангельск', 'Россия']}]"
      ]
     },
     "execution_count": 38,
     "metadata": {},
     "output_type": "execute_result"
    }
   ],
   "source": [
    "# задание №1. Вывести только визиты из России.\n",
    "\n",
    "geo_logs = [\n",
    "\n",
    "{'visit1': ['Москва', 'Россия']},\n",
    "\n",
    "{'visit2': ['Дели', 'Индия']},\n",
    "\n",
    "{'visit3': ['Владимир', 'Россия']},\n",
    "\n",
    "{'visit4': ['Лиссабон', 'Португалия']},\n",
    "\n",
    "{'visit5': ['Париж', 'Франция']},\n",
    "\n",
    "{'visit6': ['Лиссабон', 'Португалия']},\n",
    "\n",
    "{'visit7': ['Тула', 'Россия']},\n",
    "\n",
    "{'visit8': ['Тула', 'Россия']},\n",
    "\n",
    "{'visit9': ['Курск', 'Россия']},\n",
    "\n",
    "{'visit10': ['Архангельск', 'Россия']},\n",
    "\n",
    "]\n",
    "\n",
    "geo_logs_filtred = []\n",
    "\n",
    "for visit in geo_logs:\n",
    "    for values in visit.values():\n",
    "        if values[1] == 'Россия':\n",
    "            geo_logs_filtred.append(visit)\n",
    "            \n",
    "geo_logs_filtred"
   ]
  },
  {
   "cell_type": "code",
   "execution_count": 22,
   "metadata": {},
   "outputs": [
    {
     "data": {
      "text/plain": [
       "[98, 35, 15, 213, 54, 119]"
      ]
     },
     "execution_count": 22,
     "metadata": {},
     "output_type": "execute_result"
    }
   ],
   "source": [
    "# Выведите на экран все уникальные гео-ID из значений словаря ids. Т. е. список вида [213, 15, 54, 119, 98, 35]\n",
    "\n",
    "ids = {'user1': [213, 213, 213, 15, 213], 'user2': [54, 54, 119, 119, 119], 'user3': [213, 98, 98, 35]}\n",
    "\n",
    "unique_ids = []\n",
    "\n",
    "for value in ids.values():\n",
    "    unique_ids += value\n",
    "\n",
    "unique_ids = list(set(unique_ids))\n",
    "unique_ids"
   ]
  },
  {
   "cell_type": "code",
   "execution_count": 23,
   "metadata": {},
   "outputs": [
    {
     "name": "stdout",
     "output_type": "stream",
     "text": [
      "Поисковых запросов из 2 слов 42.9 процентов\n",
      "Поисковых запросов из 3 слов 57.1 процентов\n",
      "Wall time: 1e+03 µs\n"
     ]
    }
   ],
   "source": [
    "%%time\n",
    "#Задание 3\n",
    "\n",
    "#Список поисковых запросов. \n",
    "#Получить распределение количества слов в них. Т. е. поисковых запросов из одного слова 5%, из двух - 7%, из трех - 3% итд.\n",
    "\n",
    "queries = [\n",
    "\n",
    "'смотреть сериалы онлайн',\n",
    "\n",
    "'новости спорта',\n",
    "\n",
    "'афиша кино',\n",
    "\n",
    "'курс доллара',\n",
    "\n",
    "'сериалы этим летом',\n",
    "\n",
    "'курс по питону',\n",
    "\n",
    "'сериалы про спорт',\n",
    "\n",
    "]\n",
    "\n",
    "from collections import Counter\n",
    "\n",
    "count_of_words = []\n",
    "\n",
    "for querie in queries:\n",
    "    count_of_words.append(len(querie.split()))\n",
    "\n",
    "unique_count = list(set(count_of_words))\n",
    "\n",
    "i = 0\n",
    "while i < len(unique_count):\n",
    "    print('Поисковых запросов из {} слов {:.3} процентов'.format(\n",
    "                                                                unique_count[i],\n",
    "                                                                Counter(count_of_words)[unique_count[i]]/len(queries)*100)\n",
    "                                                               )\n",
    "    i += 1"
   ]
  },
  {
   "cell_type": "code",
   "execution_count": 33,
   "metadata": {},
   "outputs": [
    {
     "name": "stdout",
     "output_type": "stream",
     "text": [
      "Лидер продаж:  yandex\n",
      "Лидер продаж:  yandex\n"
     ]
    }
   ],
   "source": [
    "#Задание 4 *\n",
    "\n",
    "#Дана статистика рекламных каналов по объемам продаж. Напишите скрипт, который возвращает название канала с максимальным объемом.\n",
    "\n",
    "#Т. е. в данном примере скрипт должен возвращать 'yandex'.\n",
    "\n",
    "stats = {'facebook': 55, 'yandex': 120, 'vk': 115, 'google': 99, 'email': 42, 'ok': 98}\n",
    "for key, value in stats.items():\n",
    "    if value == max(list(stats.values())):\n",
    "        print('Лидер продаж: ', key)\n",
    "        \n",
    "### другой способ.\n",
    "### найдем для начала значение максимальных обьемов продаж\n",
    "### найдем им соответсвующий ключ.\n",
    "max_value = 0\n",
    "\n",
    "for key, value in stats.items():\n",
    "    if value > max_value:\n",
    "        max_value = value\n",
    "    if value == max_value: \n",
    "        sales_leader = key\n",
    "\n",
    "#for key, value in stats.items():\n",
    "    #if value == max_value:\n",
    "        #print(key)\n",
    "print('Лидер продаж: ', sales_leader)"
   ]
  },
  {
   "cell_type": "code",
   "execution_count": 68,
   "metadata": {},
   "outputs": [
    {
     "name": "stdout",
     "output_type": "stream",
     "text": [
      "Отношение всех просмотров к количеству уникальных пользователей:  23.25\n",
      "Wall time: 0 ns\n"
     ]
    }
   ],
   "source": [
    "%%time\n",
    "# Задание 5\n",
    "# Дан поток логов по количеству просмотренных страниц для каждого пользователя.\n",
    "# Список отсортирован по ID пользователя.\n",
    "# Вам необходимо написать алгоритм, который считает среднее значение просмотров на пользователя.\n",
    "# Т. е. надо посчитать отношение суммы всех просмотров к количеству уникальных пользователей.\n",
    "# Учтите, что весь список stream не помещается в оперативную память, т. е. его нужно обрабатывать поэлементно в цикле.\n",
    "\n",
    "stream = [\n",
    "\n",
    "'2018-01-01,user1,3',\n",
    "\n",
    "'2018-01-07,user1,4',\n",
    "\n",
    "'2018-03-29,user1,1',\n",
    "\n",
    "'2018-04-04,user1,13',\n",
    "\n",
    "'2018-01-05,user2,7',\n",
    "\n",
    "'2018-06-14,user3,4',\n",
    "\n",
    "'2018-07-02,user3,10',\n",
    "\n",
    "'2018-03-21,user4,19',\n",
    "\n",
    "'2018-03-22,user4,4',\n",
    "\n",
    "'2018-04-22,user4,8',\n",
    "\n",
    "'2018-05-03,user4,9',\n",
    "\n",
    "'2018-05-11,user4,11',\n",
    "\n",
    "]\n",
    "\n",
    "\n",
    "users = []\n",
    "views = 0\n",
    "for log in stream:\n",
    "    users.append(log.split(',')[1])\n",
    "    views += int(log.split(',')[2])\n",
    "    \n",
    "average = views / len(set(users))\n",
    "\n",
    "print('Отношение всех просмотров к количеству уникальных пользователей: ', average)"
   ]
  },
  {
   "cell_type": "code",
   "execution_count": 123,
   "metadata": {},
   "outputs": [
    {
     "name": "stdout",
     "output_type": "stream",
     "text": [
      "Введите дату в формате ****-**-**: 2018-01-01\n",
      "Введите имя компании: google\n",
      "Значение соответсвующее введенным данным:  25\n",
      "Значение соответсвующее введенным данным:  25\n"
     ]
    }
   ],
   "source": [
    "data = input('Введите дату в формате ****-**-**: ')\n",
    "company = input('Введите имя компании: ')\n",
    "\n",
    "#Задание 6 *\n",
    "\n",
    "#Дана статистика рекламных кампаний по дням.\n",
    "#Напишите алгоритм, который по паре дата-кампания ищет значение численного столбца.\n",
    "#Т. е. для даты '2018-01-01' и 'google' нужно получить число 25.\n",
    "#Считайте, что все комбинации дата-кампания уникальны, а список stats легко помещается в оперативной памяти.\n",
    "\n",
    "stats = [\n",
    "\n",
    "['2018-01-01', 'google', 25],\n",
    "\n",
    "['2018-01-01', 'yandex', 65],\n",
    "\n",
    "['2018-01-01', 'market', 89],\n",
    "\n",
    "['2018-01-02', 'google', 574],\n",
    "\n",
    "['2018-01-02', 'yandex', 249],\n",
    "\n",
    "['2018-01-02', 'market', 994],\n",
    "\n",
    "['2018-01-03', 'google', 1843],\n",
    "\n",
    "['2018-01-03', 'yandex', 1327],\n",
    "\n",
    "['2018-01-03', 'market', 1764],\n",
    "\n",
    "]\n",
    "\n",
    "stats_new = []\n",
    "\n",
    "for stat in stats:\n",
    "    dict_stats = {stat[0] + stat[1]: stat[2]}\n",
    "    stats_new.append(dict_stats)\n",
    "                  \n",
    "for stat in stats_new:\n",
    "    for key, value in stat.items():\n",
    "        if data + company == key:\n",
    "            print('Значение соответсвующее введенным данным: ', value)\n",
    "            \n",
    "            \n",
    "#### для случая, когда количество признаков неизвестно точно (или их много) простое сложение можно заменить join-ом.\n",
    "\n",
    "stats_new = []\n",
    "\n",
    "for stat in stats:\n",
    "    dict_stats = {''.join(stat[:-1]): stat[2]}\n",
    "    stats_new.append(dict_stats)\n",
    "    \n",
    "                  \n",
    "for stat in stats_new:\n",
    "    for key, value in stat.items():\n",
    "        if data + company == key:\n",
    "            print('Значение соответсвующее введенным данным: ', value)"
   ]
  },
  {
   "cell_type": "code",
   "execution_count": null,
   "metadata": {},
   "outputs": [],
   "source": []
  }
 ],
 "metadata": {
  "kernelspec": {
   "display_name": "Python 3",
   "language": "python",
   "name": "python3"
  },
  "language_info": {
   "codemirror_mode": {
    "name": "ipython",
    "version": 3
   },
   "file_extension": ".py",
   "mimetype": "text/x-python",
   "name": "python",
   "nbconvert_exporter": "python",
   "pygments_lexer": "ipython3",
   "version": "3.6.4"
  }
 },
 "nbformat": 4,
 "nbformat_minor": 2
}
