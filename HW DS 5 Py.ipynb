{
 "cells": [
  {
   "cell_type": "code",
   "execution_count": 28,
   "metadata": {},
   "outputs": [
    {
     "name": "stdout",
     "output_type": "stream",
     "text": [
      "Введите N: 10\n"
     ]
    },
    {
     "data": {
      "text/plain": [
       "array([9, 8, 7, 6, 5, 4, 3, 2, 1, 0])"
      ]
     },
     "execution_count": 28,
     "metadata": {},
     "output_type": "execute_result"
    }
   ],
   "source": [
    "#Задание 1\n",
    "#Создайте numpy array с элементами от числа N до 0 (например, для N = 10 это будет array([9, 8, 7, 6, 5, 4, 3, 2, 1, 0])).\n",
    "import numpy as np\n",
    "\n",
    "N = int(input('Введите N: ', ))\n",
    "def reverse_array(N):\n",
    "    array = np.arange( 0, N )\n",
    "    reverse_array = np.flip(array, 0)\n",
    "    #reverse_array = array[::-1] можно использовать такой более привычный способ\n",
    "    return reverse_array\n",
    "\n",
    "reverse_array(N)"
   ]
  },
  {
   "cell_type": "code",
   "execution_count": 29,
   "metadata": {
    "scrolled": true
   },
   "outputs": [
    {
     "name": "stdout",
     "output_type": "stream",
     "text": [
      "[[9 0 0 0 0 0 0 0 0 0]\n",
      " [0 8 0 0 0 0 0 0 0 0]\n",
      " [0 0 7 0 0 0 0 0 0 0]\n",
      " [0 0 0 6 0 0 0 0 0 0]\n",
      " [0 0 0 0 5 0 0 0 0 0]\n",
      " [0 0 0 0 0 4 0 0 0 0]\n",
      " [0 0 0 0 0 0 3 0 0 0]\n",
      " [0 0 0 0 0 0 0 2 0 0]\n",
      " [0 0 0 0 0 0 0 0 1 0]\n",
      " [0 0 0 0 0 0 0 0 0 0]] [9 8 7 6 5 4 3 2 1 0] 45\n"
     ]
    }
   ],
   "source": [
    "#Задание 2\n",
    "#Создайте диагональную матрицу с элементами от N до 0. Посчитайте сумму ее значений на диагонали.\n",
    "diagonal_array = np.diag(reverse_array(N)) #создаем диагональную матрицу используя предыдущую функцию\n",
    "\n",
    "sum(diagonal_array.diagonal()) #выводим array с элементами по диагонали и суммируем\n",
    "\n",
    "print(diagonal_array, diagonal_array.diagonal(), sum(diagonal_array.diagonal()))"
   ]
  },
  {
   "cell_type": "code",
   "execution_count": 5,
   "metadata": {
    "scrolled": true
   },
   "outputs": [],
   "source": [
    "#Задание 3\n",
    "#Скачайте с сайта https://grouplens.org/datasets/movielens/ датасет любого размера.\n",
    "#Определите какому фильму было выставлено больше всего оценок 5.0.\n",
    "import pandas as pd\n",
    "movies = pd.read_csv('data/movies.csv')\n",
    "ratings = pd.read_csv('data/ratings.csv')"
   ]
  },
  {
   "cell_type": "code",
   "execution_count": 6,
   "metadata": {},
   "outputs": [
    {
     "data": {
      "text/plain": [
       "(318, 48762)"
      ]
     },
     "execution_count": 6,
     "metadata": {},
     "output_type": "execute_result"
    }
   ],
   "source": [
    "movieId = ratings.loc[ratings['rating'] == 5].groupby('movieId').count().sort_values('rating', ascending=False).head(1).index[0]\n",
    "count = ratings.loc[ratings['rating'] == 5].groupby('movieId').count().sort_values('rating', ascending=False).head(1).values[0][0]\n",
    "#то есть наш искомый фильм имеет movieId 318 и количество оценок 5 равны 48762.\n",
    "movieId, count"
   ]
  },
  {
   "cell_type": "code",
   "execution_count": 7,
   "metadata": {
    "scrolled": false
   },
   "outputs": [
    {
     "data": {
      "text/plain": [
       "48762"
      ]
     },
     "execution_count": 7,
     "metadata": {},
     "output_type": "execute_result"
    }
   ],
   "source": [
    "#c помощью такого запроса можно проверить правильно ли он посчитал количество оценок равных 5.\n",
    "len(ratings.loc[ratings['movieId'] == 318].loc[ratings['rating'] == 5])"
   ]
  },
  {
   "cell_type": "code",
   "execution_count": 8,
   "metadata": {},
   "outputs": [
    {
     "data": {
      "text/plain": [
       "'Shawshank Redemption, The (1994)'"
      ]
     },
     "execution_count": 8,
     "metadata": {},
     "output_type": "execute_result"
    }
   ],
   "source": [
    "name = movies.loc[movies['movieId'] == 318]['title'].values[0] #используя другую таблицу можно узнать название фильма (зная movieId)\n",
    "name\n",
    "# то есть наш фильм - это фильм \"Побег из Шоушенка\""
   ]
  },
  {
   "cell_type": "code",
   "execution_count": 9,
   "metadata": {},
   "outputs": [],
   "source": [
    "#Задание 4\n",
    "#По данным файла power.csv посчитайте суммарное потребление стран Прибалтики\n",
    "#(Латвия, Литва и Эстония) категорий 4, 12 и 21 за период с 2005 по 2010 года.\n",
    "#Не учитывайте в расчетах отрицательные значения quantity.\n",
    "\n",
    "data = pd.read_csv('data/power.csv')"
   ]
  },
  {
   "cell_type": "code",
   "execution_count": 12,
   "metadata": {},
   "outputs": [
    {
     "name": "stdout",
     "output_type": "stream",
     "text": [
      "Cуммарное потребление стран Прибалтики категорий 4, 12, 21 за период с 2005 по 2010: 240580.0\n"
     ]
    }
   ],
   "source": [
    "#чтобы запрос не был нечитабельным, лучше его разбить на несколько пунктов\n",
    "\n",
    "filtered_countries = data[ (data['country']=='Latvia') | (data['country']=='Estonia') | (data['country']=='Lithuania')]\n",
    "\n",
    "filtered_category = filtered_countries[ (filtered_countries['category'] == 21) | (filtered_countries['category'] == 12) | (filtered_countries['category'] == 4) ]\n",
    "\n",
    "#будем учитывать 2005 и 2010 годы тоже, поэтому неравенства нестрогие\n",
    "filtered_years = filtered_category[ (filtered_category['year'] >= 2005) & (filtered_category['year'] <= 2010) ]\n",
    "\n",
    "filtered_quantity = filtered_years[ (filtered_years['quantity'] >= 0) ]\n",
    "\n",
    "total_consumption = sum(filtered_quantity['quantity'].values)\n",
    "\n",
    "print('Cуммарное потребление стран Прибалтики категорий 4, 12, 21 за период с 2005 по 2010: {}'.format(total_consumption))"
   ]
  },
  {
   "cell_type": "code",
   "execution_count": 24,
   "metadata": {},
   "outputs": [
    {
     "name": "stdout",
     "output_type": "stream",
     "text": [
      "Решение системы уравнений: x = 0.467, y = 3.84, z = -5.56\n"
     ]
    }
   ],
   "source": [
    "\"\"\" Задание 5\n",
    "Решите систему уравнений:\n",
    "4x + 2y + z = 4\n",
    "x + 3y = 12\n",
    "5y + 4z = -3 \"\"\"\n",
    "\n",
    "from numpy import linalg\n",
    "\n",
    "#составим для начала матрицу коэффициентов лин. сист. уравнений\n",
    "A = np.array( [[4, 2, 1],\n",
    "               [1, 3, 0],\n",
    "               [0, 5, 4]])\n",
    "\n",
    "#теперь составим столбец из значений в правой части уравнений\n",
    "B = np.array( [4, 12, -3])\n",
    "\n",
    "# решение с помощью метода solve\n",
    "solution = linalg.solve(A, B)\n",
    "print('Решение системы уравнений: x = {:.3}, y = {:.3}, z = {:.3}'.format(solution[0], solution[1], solution[2]))"
   ]
  },
  {
   "cell_type": "code",
   "execution_count": 25,
   "metadata": {},
   "outputs": [
    {
     "data": {
      "text/plain": [
       "True"
      ]
     },
     "execution_count": 25,
     "metadata": {},
     "output_type": "execute_result"
    }
   ],
   "source": [
    "# проверка правильности: умножение матрицы коэфициентов на вектор-столбец решений = вектор-столбец B\n",
    "np.allclose( np.dot(A, linalg.solve(A, B)), B )"
   ]
  },
  {
   "cell_type": "code",
   "execution_count": null,
   "metadata": {},
   "outputs": [],
   "source": []
  }
 ],
 "metadata": {
  "kernelspec": {
   "display_name": "Python 3",
   "language": "python",
   "name": "python3"
  },
  "language_info": {
   "codemirror_mode": {
    "name": "ipython",
    "version": 3
   },
   "file_extension": ".py",
   "mimetype": "text/x-python",
   "name": "python",
   "nbconvert_exporter": "python",
   "pygments_lexer": "ipython3",
   "version": "3.6.4"
  }
 },
 "nbformat": 4,
 "nbformat_minor": 2
}
