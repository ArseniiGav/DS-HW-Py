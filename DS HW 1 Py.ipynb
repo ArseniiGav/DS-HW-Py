{
 "cells": [
  {
   "cell_type": "code",
   "execution_count": 1,
   "metadata": {},
   "outputs": [
    {
     "name": "stdout",
     "output_type": "stream",
     "text": [
      "Да, эта строка длинее\n"
     ]
    },
    {
     "data": {
      "text/plain": [
       "True"
      ]
     },
     "execution_count": 1,
     "metadata": {},
     "output_type": "execute_result"
    }
   ],
   "source": [
    "long_phrase = 'Насколько проще было бы писать программы, если бы не заказчики'\n",
    "\n",
    "short_phrase = '640Кб должно хватить для любых задач. Билл Гейтс (по легенде)'\n",
    "\n",
    "if len(long_phrase) > len(short_phrase):\n",
    "    print('Да, эта строка длинее')\n",
    "else:\n",
    "    print('Нет, эта строка не длиннее')\n",
    "    \n",
    "# или проще:\n",
    "\n",
    "len(long_phrase) > len(short_phrase)"
   ]
  },
  {
   "cell_type": "code",
   "execution_count": 2,
   "metadata": {},
   "outputs": [
    {
     "name": "stdout",
     "output_type": "stream",
     "text": [
      "Буква \"а\" встречается чаще\n",
      "Буква \"а\" встречается чаще\n"
     ]
    }
   ],
   "source": [
    "text = 'Если программист в 9-00 утра на работе, значит, он там и ночевал'\n",
    "\n",
    "j = 0\n",
    "k = 0\n",
    "for i in text:\n",
    "    if i=='и':\n",
    "        j+=1\n",
    "    if i=='а':\n",
    "        k+=1\n",
    "\n",
    "if k > j:\n",
    "    print('Буква \"а\" встречается чаще')    \n",
    "elif k == j:\n",
    "    print('Буквы \"а\" и \"и\" встречаются одинаковое количество раз')\n",
    "else:\n",
    "    print('Буква \"и\" встречается чаще')\n",
    "\n",
    "# или используя count()\n",
    "    \n",
    "if text.count('а') > text.count('и'):\n",
    "    print('Буква \"а\" встречается чаще')\n",
    "elif text.count('а') == text.count('и'):\n",
    "     print('Буквы \"а\" и \"и\" встречаются одинаковое количество раз')\n",
    "else:\n",
    "    print('Буква \"и\" встречается чаще')"
   ]
  },
  {
   "cell_type": "code",
   "execution_count": 3,
   "metadata": {},
   "outputs": [
    {
     "name": "stdout",
     "output_type": "stream",
     "text": [
      "Обьем файла равен 213.68Mb\n"
     ]
    }
   ],
   "source": [
    "bytes_volume = 224059719.68 # пусть дано значение байтов\n",
    "mbytes_volume = bytes_volume/(1024**2) # перевод байтов в мегабайты\n",
    "\n",
    "print('Обьем файла равен {}Mb'.format(mbytes_volume))"
   ]
  },
  {
   "cell_type": "code",
   "execution_count": 4,
   "metadata": {},
   "outputs": [
    {
     "name": "stdout",
     "output_type": "stream",
     "text": [
      "0.49999999999999994\n",
      "0.5\n",
      "0.5\n"
     ]
    }
   ],
   "source": [
    "import math\n",
    "\n",
    "print(math.sin(math.pi/6)) # без округления\n",
    "\n",
    "print(round(math.sin(math.pi/6), 2)) # округлим\n",
    "\n",
    "# или\n",
    "\n",
    "print('{0:.1f}'.format(math.sin(math.pi/6))) # округлим с помощью форматирования "
   ]
  },
  {
   "cell_type": "code",
   "execution_count": 5,
   "metadata": {},
   "outputs": [
    {
     "name": "stdout",
     "output_type": "stream",
     "text": [
      "0.30000000000000004\n",
      "0.3\n",
      "0.3\n"
     ]
    }
   ],
   "source": [
    "print(0.1 + 0.2) # без округления \n",
    "\n",
    "print(round(0.1 + 0.2, 1)) # округлим \n",
    "\n",
    "print('{0:.1f}'.format(0.1 + 0.2))"
   ]
  },
  {
   "cell_type": "code",
   "execution_count": 7,
   "metadata": {},
   "outputs": [
    {
     "name": "stdout",
     "output_type": "stream",
     "text": [
      "98 123\n",
      "82 90\n"
     ]
    }
   ],
   "source": [
    "#[a,b] = [b,a]\n",
    "\n",
    "# или\n",
    "\n",
    "#a = b + a\n",
    "#b = a - b\n",
    "#a = a - b\n",
    "\n",
    "# Пример №1\n",
    "a = 123\n",
    "b = 98  \n",
    "\n",
    "[a,b] = [b,a]\n",
    "\n",
    "print(a, b)\n",
    "\n",
    "# Пример №2\n",
    "a = 90\n",
    "b = 82\n",
    "\n",
    "a = b + a\n",
    "b = a - b\n",
    "a = a - b\n",
    "\n",
    "print(a, b)"
   ]
  },
  {
   "cell_type": "code",
   "execution_count": 8,
   "metadata": {},
   "outputs": [
    {
     "name": "stdout",
     "output_type": "stream",
     "text": [
      "10011\n",
      "19\n",
      "19\n"
     ]
    }
   ],
   "source": [
    "num_base_2 = input()\n",
    "\n",
    "print(int(str(num_base_2), base=2))\n",
    "\n",
    "#или\n",
    "\n",
    "m = len(str(num_base_2))\n",
    "num_base_10 = 0\n",
    "\n",
    "for n in range(m):  \n",
    "    num_base_10 += int(str(num_base_2)[n])*(2**(m-n-1))\n",
    "    \n",
    "print(num_base_10)"
   ]
  },
  {
   "cell_type": "code",
   "execution_count": null,
   "metadata": {},
   "outputs": [],
   "source": []
  }
 ],
 "metadata": {
  "kernelspec": {
   "display_name": "Python 3",
   "language": "python",
   "name": "python3"
  },
  "language_info": {
   "codemirror_mode": {
    "name": "ipython",
    "version": 3
   },
   "file_extension": ".py",
   "mimetype": "text/x-python",
   "name": "python",
   "nbconvert_exporter": "python",
   "pygments_lexer": "ipython3",
   "version": "3.6.4"
  }
 },
 "nbformat": 4,
 "nbformat_minor": 2
}
