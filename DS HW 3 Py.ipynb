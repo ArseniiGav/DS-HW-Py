{
 "cells": [
  {
   "cell_type": "code",
   "execution_count": 10,
   "metadata": {},
   "outputs": [
    {
     "data": {
      "text/plain": [
       "103"
      ]
     },
     "execution_count": 10,
     "metadata": {},
     "output_type": "execute_result"
    }
   ],
   "source": [
    "#Задание 1\n",
    "\n",
    "#Напишите функцию, которая возвращает сумму элементов на диагонали. Т. е. 13+32+23+35.\n",
    "\n",
    "data = [\n",
    "    [13, 25, 23, 34],\n",
    "    [45, 32, 44, 47],\n",
    "    [12, 33, 23, 95],\n",
    "    [13, 53, 34, 35],\n",
    "]\n",
    "\n",
    "def diagonal_sum(data):\n",
    "    \"\"\"\n",
    "    Принимает на вход список списков с равным кол-вом столбцов и строк.\n",
    "    Возвращает сумму элементов по диагонали\n",
    "    diagonal_sum(data)\n",
    "    103\n",
    "    \"\"\"\n",
    "    i = 0\n",
    "    sum = 0\n",
    "    while i < len(data):\n",
    "        sum += data[i][i]\n",
    "        i += 1\n",
    "    return sum\n",
    "\n",
    "diagonal_sum(data)"
   ]
  },
  {
   "cell_type": "code",
   "execution_count": 10,
   "metadata": {
    "scrolled": true
   },
   "outputs": [
    {
     "data": {
      "text/plain": [
       "430.0"
      ]
     },
     "execution_count": 10,
     "metadata": {},
     "output_type": "execute_result"
    }
   ],
   "source": [
    "#Задание 2\n",
    "#Дан список чисел, часть из которых имеют строковый тип или содержат буквы.\n",
    "#Напишите функцию, которая возвращает сумму квадратов элементов, которые могут быть числами.\n",
    "\n",
    "data = [1, '5', 'abc', 20, '2']\n",
    "\n",
    "def sum_square(data_list):\n",
    "    \"\"\"\n",
    "    Принимает на вход список чисел, часть из которых имеют строковый тип или содержат буквы.\n",
    "    Возвращает сумму квадратов элементов, которые являются числами и \n",
    "    тех элементов, которые могут быть числами\n",
    "    \n",
    "    sum_square([1, '5', 'abc', 20, '2'])\n",
    "    430.0\n",
    "    \"\"\"\n",
    "    i = 0\n",
    "    while i < len(data_list):\n",
    "        try:\n",
    "            data_list[i] = float(data_list[i])**2\n",
    "            i += 1\n",
    "        except ValueError:\n",
    "            del data_list[i]\n",
    "            continue \n",
    "            \n",
    "    return sum(data_list)\n",
    "\n",
    "\n",
    "sum_square(data)"
   ]
  },
  {
   "cell_type": "code",
   "execution_count": 4,
   "metadata": {},
   "outputs": [
    {
     "data": {
      "text/plain": [
       "'СДР (специальные права заимствования)'"
      ]
     },
     "execution_count": 4,
     "metadata": {},
     "output_type": "execute_result"
    }
   ],
   "source": [
    "\n",
    "#Задание 3\n",
    "#Напишите функцию, которая возвращает название валюты (поле 'Name')\n",
    "#с максимальным значением курса с помощью сервиса https://www.cbr-xml-daily.ru/daily_json.js\n",
    "import requests\n",
    "\n",
    "def exchange_rates():\n",
    "        \"\"\"\n",
    "        Возвращает ответ сервиса с информацией о валютах в виде:\n",
    "        \n",
    "        {\n",
    "            'AMD': {\n",
    "                'CharCode': 'AMD',\n",
    "                'ID': 'R01060',\n",
    "                'Name': 'Армянских драмов',\n",
    "                'Nominal': 100,\n",
    "                'NumCode': '051',\n",
    "                'Previous': 14.103,\n",
    "                'Value': 14.0879\n",
    "                },\n",
    "            ...\n",
    "        }\n",
    "        \"\"\"\n",
    "        r = requests.get('https://www.cbr-xml-daily.ru/daily_json.js')\n",
    "        return r.json()['Valute']\n",
    "\n",
    "\n",
    "# требуется учитывать не только само значение валюты на данном ресурсе ('Value'), но и в каком номинале она там\n",
    "# присутствует. То есть требуется поделить значение на номинал. В противном случае, например, мы получим для Юаней\n",
    "# значение около 97. Но реальный курс юаня к рублю примерно 9.7. Дело в номинале. Он равен на данном ресурсе для юаня 10 и тд. \n",
    "\n",
    "\n",
    "def name_highest_exchange_rate(exchange_rates):\n",
    "    \"\"\"\n",
    "    Возвращает название валюты, которой реальный курс к рублю наибольший\n",
    "    \n",
    "    \"\"\"\n",
    "    maximum = 0\n",
    "    \n",
    "    for value in exchange_rates.values():\n",
    "        real_value = float(value['Value'])/float(value['Nominal']) #делим на номинал для получения реального курса валюты к рублю\n",
    "        \n",
    "        if real_value > maximum:\n",
    "            maximum = real_value\n",
    "            name = value['Name']\n",
    "\n",
    "    return name\n",
    "\n",
    "name_highest_exchange_rate(exchange_rates())"
   ]
  },
  {
   "cell_type": "code",
   "execution_count": 84,
   "metadata": {
    "scrolled": false
   },
   "outputs": [
    {
     "data": {
      "text/plain": [
       "75.6562"
      ]
     },
     "execution_count": 84,
     "metadata": {},
     "output_type": "execute_result"
    }
   ],
   "source": [
    "#Задание 4\n",
    "#Последнее упражнение с занятия\n",
    "#1. Добавьте в класс еще один формат, который возвращает название валюты (например, 'Евро').\n",
    "\n",
    "#2. Добавьте в класс параметр diff (со значениями True или False),\n",
    "#который в случае значения True в методах eur и usd будет возвращать не курс валюты,\n",
    "#а изменение по сравнению в прошлым значением.\n",
    "\n",
    "class Rate:\n",
    "\n",
    "    def __init__(self, format='value'):\n",
    "        self.format = format\n",
    "        \n",
    "    diff = False\n",
    "    \n",
    "    def exchange_rates(self):\n",
    "        \"\"\"\n",
    "        Возвращает ответ сервиса с информацией о валютах в виде:\n",
    "        \n",
    "        {\n",
    "            'AMD': {\n",
    "                'CharCode': 'AMD',\n",
    "                'ID': 'R01060',\n",
    "                'Name': 'Армянских драмов',\n",
    "                'Nominal': 100,\n",
    "                'NumCode': '051',\n",
    "                'Previous': 14.103,\n",
    "                'Value': 14.0879\n",
    "                },\n",
    "            ...\n",
    "        }\n",
    "        \"\"\"\n",
    "        r = requests.get('https://www.cbr-xml-daily.ru/daily_json.js')\n",
    "        return r.json()['Valute']\n",
    "    \n",
    "    def make_format(self, currency):\n",
    "        \"\"\"\n",
    "        Возвращает информацию о валюте currency в двух вариантах:\n",
    "        - полная информация о валюте при self.format = 'full':\n",
    "        Rate('full').make_format('EUR')\n",
    "        {\n",
    "            'CharCode': 'EUR',\n",
    "            'ID': 'R01239',\n",
    "            'Name': 'Евро',\n",
    "            'Nominal': 1,\n",
    "            'NumCode': '978',\n",
    "            'Previous': 79.6765,\n",
    "            'Value': 79.4966\n",
    "        }\n",
    "        \n",
    "        Rate('value').make_format('EUR')\n",
    "        79.4966\n",
    "        \"\"\"\n",
    "        response = self.exchange_rates()\n",
    "        if currency in response:\n",
    "            if self.format == 'full':\n",
    "                return response[currency]\n",
    "            \n",
    "            if self.format == 'value':\n",
    "                return response[currency]['Value']\n",
    "        \n",
    "        return 'Error'\n",
    "    \n",
    "    def eur(self, diff):\n",
    "        \"\"\"\n",
    "        Возвращает курс евро на сегодня в формате self.format\n",
    "        или разницу между курсами сегодня и вчера при условии если параметр diff равен True\n",
    "        \n",
    "        Rate().eur(True)\n",
    "        0.2687999999999988\n",
    "        \n",
    "        Rate().eur(False)\n",
    "        75.6562\n",
    "        \"\"\"\n",
    "        if diff == True:\n",
    "            return exchange_rates()['EUR']['Value'] - exchange_rates()['EUR']['Previous']\n",
    "        else:\n",
    "            return self.make_format('EUR')\n",
    "    \n",
    "    def usd(self, diff):\n",
    "        \"\"\"\n",
    "        Возвращает курс евро на сегодня в формате self.format\n",
    "        или разницу между курсами сегодня и вчера при условии, если параметр diff равен True\n",
    "        \n",
    "        Rate().usd(True)\n",
    "        0.15460000000000207\n",
    "        \n",
    "        Rate().usd(False)\n",
    "        66.4467\n",
    "        \"\"\"\n",
    "        if diff == True:\n",
    "            return exchange_rates()['USD']['Value'] - exchange_rates()['USD']['Previous']\n",
    "        else:\n",
    "            return self.make_format('USD')\n",
    "    \n",
    "    def name_format(self, currency):\n",
    "        \"\"\"\n",
    "        Возвращает название валюты\n",
    "        \n",
    "        Rate('name').name_format('USD') \n",
    "        'Доллар США'\n",
    "        \"\"\"\n",
    "        response = self.exchange_rates()\n",
    "        if self.format == 'name':\n",
    "            return response[currency]['Name']\n",
    "    \n",
    "Rate().eur(False)"
   ]
  },
  {
   "cell_type": "code",
   "execution_count": 86,
   "metadata": {},
   "outputs": [
    {
     "name": "stdout",
     "output_type": "stream",
     "text": [
      "Введите число n: 22\n",
      "Сумма первых 22 чисел Фибонначи - 46367 (учитывая что первые два числа это 1 и 1), сам ряд Фибонначи [1, 1, 2, 3, 5, 8, 13, 21, 34, 55, 89, 144, 233, 377, 610, 987, 1597, 2584, 4181, 6765, 10946, 17711]\n"
     ]
    }
   ],
   "source": [
    "#Задание 5\n",
    "#Напишите функцию, возвращающую сумму первых n чисел Фибоначчи\n",
    "\n",
    "import matplotlib.pyplot as plt\n",
    "import math\n",
    "\n",
    "n = int(input('Введите число n: ', ))\n",
    "\n",
    "\n",
    "def fib_func(n):\n",
    "    \"\"\"\n",
    "    (Здесь имеем ввиду, что первые два члена ряда есть 1 и 1)\n",
    "    \n",
    "    Принимает на вход натуральное число. \n",
    "    Возвращает сумму ряда Фибонначи и сам ряд соотв. этому нат. числу.\n",
    "    \n",
    "    fib_func(7)\n",
    "    33 [1, 1, 2, 3, 5, 8, 13]\n",
    "    \n",
    "    fib_func(1)\n",
    "    1 [1]\n",
    "    \"\"\"\n",
    "    fib1 = 1 \n",
    "    fib2 = 1\n",
    "    fib_n_list = []\n",
    "    if n == 0:\n",
    "        sum_n = 0\n",
    "    elif n == 1:\n",
    "        sum_n = fib1\n",
    "        fib_n_list = [fib1]\n",
    "    else:\n",
    "        sum_n = fib1 + fib2\n",
    "        fib_n_list = [fib1, fib2]\n",
    "        i = 2\n",
    "        while i < n:\n",
    "            fib_n = fib1 + fib2 \n",
    "            fib1 = fib2\n",
    "            fib2 = fib_n\n",
    "            sum_n += fib_n\n",
    "            fib_n_list.append(fib_n)\n",
    "            i += 1\n",
    "    return sum_n, fib_n_list\n",
    "\n",
    "print('Сумма первых {} чисел Фибонначи - {} (учитывая что первые два числа это 1 и 1), сам ряд Фибонначи {}'\n",
    "      .format(n, fib_func(n)[0], fib_func(n)[1]))"
   ]
  },
  {
   "cell_type": "code",
   "execution_count": 87,
   "metadata": {},
   "outputs": [
    {
     "name": "stdout",
     "output_type": "stream",
     "text": [
      "Из списка ['2018-01-01', 'yandex', 'cpc', 100] получаем словарь ---> {'2018-01-01': {'yandex': {'cpc': 100}}}\n",
      "Из списка [100, 'cpc', 'yandex', '2018-01-01', 100, 'cpc', 'yandex', '2018-01-01'] получаем словарь ---> {100: {'cpc': {'yandex': {'2018-01-01': {100: {'cpc': {'yandex': '2018-01-01'}}}}}}}\n"
     ]
    }
   ],
   "source": [
    "#Задание 6\n",
    "#Напишите функцию, преобразующую произвольный список вида ['2018-01-01', 'yandex', 'cpc', 100]\n",
    "#в словарь {'2018-01-01': ##{'yandex': {'cpc': 100}}}\n",
    "\n",
    "list_a = ['2018-01-01', 'yandex', 'cpc', 100] # пример списка №1\n",
    "list_b = list_a[::-1]*2  #пример списка №2\n",
    "\n",
    "\n",
    "def list_in_dict(list_x):\n",
    "    \"\"\"\n",
    "    Принимает на вход список. Возвращает вложанный словарь вида:\n",
    "    \n",
    "    ['2018-01-01', 'yandex', 'cpc', 100]\n",
    "    {'2018-01-01': {'yandex': {'cpc': 100}}}\n",
    "    \"\"\"\n",
    "    i = 2\n",
    "    dict_x = list_x[-1]\n",
    "    while i <= len(list_x):\n",
    "        dict_x = {list_x[-i]:dict_x}\n",
    "        i += 1\n",
    "    return dict_x\n",
    "\n",
    "\n",
    "print('Из списка {} получаем словарь ---> {}'.format(list_a, list_in_dict(list_a)))\n",
    "print('Из списка {} получаем словарь ---> {}'.format(list_b, list_in_dict(list_b)))"
   ]
  },
  {
   "cell_type": "code",
   "execution_count": null,
   "metadata": {},
   "outputs": [],
   "source": []
  }
 ],
 "metadata": {
  "kernelspec": {
   "display_name": "Python 3",
   "language": "python",
   "name": "python3"
  },
  "language_info": {
   "codemirror_mode": {
    "name": "ipython",
    "version": 3
   },
   "file_extension": ".py",
   "mimetype": "text/x-python",
   "name": "python",
   "nbconvert_exporter": "python",
   "pygments_lexer": "ipython3",
   "version": "3.6.4"
  }
 },
 "nbformat": 4,
 "nbformat_minor": 2
}
