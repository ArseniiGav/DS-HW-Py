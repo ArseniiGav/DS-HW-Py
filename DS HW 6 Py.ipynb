{
 "cells": [
  {
   "cell_type": "code",
   "execution_count": 88,
   "metadata": {},
   "outputs": [],
   "source": [
    "#Задание 1\n",
    "#Используем файл keywords.csv.\n",
    "#Необходимо написать гео-классификатор, который каждой строке сможет выставить географическую принадлежность определенному региону.\n",
    "#Т. е. если поисковый запрос содержит название города региона, то в столбце 'region' пишется название этого региона.\n",
    "#Если поисковый запрос не содержит названия города, то ставим 'undefined'.\n",
    "\n",
    "#Правила распределения по регионам Центр, Северо-Запад и Дальний Восток:\n",
    "\n",
    "geo_data = {\n",
    "\n",
    "    'Центр': ['москва', 'тула', 'ярославль'],\n",
    "\n",
    "    'Северо-Запад': ['петербург', 'псков', 'мурманск'],\n",
    "\n",
    "    'Дальний Восток': ['владивосток', 'сахалин', 'хабаровск']\n",
    "\n",
    "}\n",
    "\n",
    "import pandas as pd\n",
    "\n",
    "keywords = pd.read_csv('data/keywords.csv')"
   ]
  },
  {
   "cell_type": "code",
   "execution_count": 89,
   "metadata": {},
   "outputs": [],
   "source": [
    "def geo_class(row):\n",
    "    \"\"\" Функция обрабатывает словарь с ключами - регионами и значениями - списками городов, \n",
    "    возвращает регион, если город из соответствующего списка значение имеется в строке или возвращает\n",
    "    'undefined, если ни одного из имеющихся в списке городов нет.'\"\"\"\n",
    "    \n",
    "    for keys, values in geo_data.items():\n",
    "        for value in values:\n",
    "            if value in row['keyword']:\n",
    "                return keys\n",
    "    return 'undefined'"
   ]
  },
  {
   "cell_type": "code",
   "execution_count": 90,
   "metadata": {},
   "outputs": [
    {
     "data": {
      "text/html": [
       "<div>\n",
       "<style scoped>\n",
       "    .dataframe tbody tr th:only-of-type {\n",
       "        vertical-align: middle;\n",
       "    }\n",
       "\n",
       "    .dataframe tbody tr th {\n",
       "        vertical-align: top;\n",
       "    }\n",
       "\n",
       "    .dataframe thead th {\n",
       "        text-align: right;\n",
       "    }\n",
       "</style>\n",
       "<table border=\"1\" class=\"dataframe\">\n",
       "  <thead>\n",
       "    <tr style=\"text-align: right;\">\n",
       "      <th></th>\n",
       "      <th>keyword</th>\n",
       "      <th>shows</th>\n",
       "      <th>region</th>\n",
       "    </tr>\n",
       "  </thead>\n",
       "  <tbody>\n",
       "    <tr>\n",
       "      <th>127</th>\n",
       "      <td>авито москва</td>\n",
       "      <td>979292</td>\n",
       "      <td>Центр</td>\n",
       "    </tr>\n",
       "    <tr>\n",
       "      <th>370</th>\n",
       "      <td>авито ру санкт петербург</td>\n",
       "      <td>425134</td>\n",
       "      <td>Северо-Запад</td>\n",
       "    </tr>\n",
       "    <tr>\n",
       "      <th>564</th>\n",
       "      <td>погода в санкт петербурге</td>\n",
       "      <td>292489</td>\n",
       "      <td>Северо-Запад</td>\n",
       "    </tr>\n",
       "    <tr>\n",
       "      <th>849</th>\n",
       "      <td>авито ярославль</td>\n",
       "      <td>209581</td>\n",
       "      <td>Центр</td>\n",
       "    </tr>\n",
       "    <tr>\n",
       "      <th>1063</th>\n",
       "      <td>фарпост владивосток</td>\n",
       "      <td>176951</td>\n",
       "      <td>Дальний Восток</td>\n",
       "    </tr>\n",
       "  </tbody>\n",
       "</table>\n",
       "</div>"
      ],
      "text/plain": [
       "                        keyword   shows          region\n",
       "127                авито москва  979292           Центр\n",
       "370    авито ру санкт петербург  425134    Северо-Запад\n",
       "564   погода в санкт петербурге  292489    Северо-Запад\n",
       "849             авито ярославль  209581           Центр\n",
       "1063        фарпост владивосток  176951  Дальний Восток"
      ]
     },
     "execution_count": 90,
     "metadata": {},
     "output_type": "execute_result"
    }
   ],
   "source": [
    "keywords['region'] = keywords.apply(geo_class, axis=1)\n",
    "\n",
    "keywords[(keywords['region'] == 'Центр') | (keywords['region'] == 'Северо-Запад') | (keywords['region'] == 'Дальний Восток')].head(5)"
   ]
  },
  {
   "cell_type": "code",
   "execution_count": 91,
   "metadata": {},
   "outputs": [
    {
     "data": {
      "text/plain": [
       "747"
      ]
     },
     "execution_count": 91,
     "metadata": {},
     "output_type": "execute_result"
    }
   ],
   "source": [
    "len(keywords[(keywords['region'] == 'Центр') | (keywords['region'] == 'Северо-Запад') | (keywords['region'] == 'Дальний Восток')])"
   ]
  },
  {
   "cell_type": "code",
   "execution_count": 92,
   "metadata": {},
   "outputs": [
    {
     "data": {
      "text/plain": [
       "53889"
      ]
     },
     "execution_count": 92,
     "metadata": {},
     "output_type": "execute_result"
    }
   ],
   "source": [
    "#Задание 2\n",
    "#Напишите функцию, которая классифицирует фильмы из материалов занятия по следующим правилам:\n",
    "#    - оценка 2 и меньше - низкий рейтинг\n",
    "#    - оценка 4 и меньше - средний рейтинг\n",
    "#    - оценка 4.5 и 5 - высокий рейтинг\n",
    "\n",
    "#Результат классификации запишите в столбец class\n",
    "\n",
    "\n",
    "ratings = pd.read_csv('data/ratings.csv')\n",
    "len(ratings['movieId'].unique())"
   ]
  },
  {
   "cell_type": "code",
   "execution_count": 93,
   "metadata": {},
   "outputs": [],
   "source": [
    "def rating_class(row):\n",
    "    \"\"\"Функция возвравщает класс рейтинга: 'low rating', если\n",
    "    средний рейтинг фильма меньше 2, 'middle rating', если средний рейтинг\n",
    "    лежит в пределах от 2 до 4 и 'high rating', если средний рейтинг фильма больше 4.\"\"\"\n",
    "    \n",
    "    if row['rating'] <= 2:\n",
    "        return 'low rating'\n",
    "    elif 2 < row['rating'] <= 4:\n",
    "        return 'middle rating'\n",
    "    elif row['rating'] > 4:\n",
    "        return 'high rating'"
   ]
  },
  {
   "cell_type": "code",
   "execution_count": 94,
   "metadata": {},
   "outputs": [
    {
     "data": {
      "text/html": [
       "<div>\n",
       "<style scoped>\n",
       "    .dataframe tbody tr th:only-of-type {\n",
       "        vertical-align: middle;\n",
       "    }\n",
       "\n",
       "    .dataframe tbody tr th {\n",
       "        vertical-align: top;\n",
       "    }\n",
       "\n",
       "    .dataframe thead th {\n",
       "        text-align: right;\n",
       "    }\n",
       "</style>\n",
       "<table border=\"1\" class=\"dataframe\">\n",
       "  <thead>\n",
       "    <tr style=\"text-align: right;\">\n",
       "      <th></th>\n",
       "      <th>movieId</th>\n",
       "      <th>rating</th>\n",
       "      <th>class</th>\n",
       "    </tr>\n",
       "  </thead>\n",
       "  <tbody>\n",
       "    <tr>\n",
       "      <th>43805</th>\n",
       "      <td>169338</td>\n",
       "      <td>5.0</td>\n",
       "      <td>high rating</td>\n",
       "    </tr>\n",
       "    <tr>\n",
       "      <th>51585</th>\n",
       "      <td>187729</td>\n",
       "      <td>5.0</td>\n",
       "      <td>high rating</td>\n",
       "    </tr>\n",
       "    <tr>\n",
       "      <th>45018</th>\n",
       "      <td>172149</td>\n",
       "      <td>5.0</td>\n",
       "      <td>high rating</td>\n",
       "    </tr>\n",
       "    <tr>\n",
       "      <th>40484</th>\n",
       "      <td>160966</td>\n",
       "      <td>5.0</td>\n",
       "      <td>high rating</td>\n",
       "    </tr>\n",
       "    <tr>\n",
       "      <th>30667</th>\n",
       "      <td>134387</td>\n",
       "      <td>5.0</td>\n",
       "      <td>high rating</td>\n",
       "    </tr>\n",
       "  </tbody>\n",
       "</table>\n",
       "</div>"
      ],
      "text/plain": [
       "       movieId  rating        class\n",
       "43805   169338     5.0  high rating\n",
       "51585   187729     5.0  high rating\n",
       "45018   172149     5.0  high rating\n",
       "40484   160966     5.0  high rating\n",
       "30667   134387     5.0  high rating"
      ]
     },
     "execution_count": 94,
     "metadata": {},
     "output_type": "execute_result"
    }
   ],
   "source": [
    "ratings = ratings[['movieId', 'rating']].groupby('movieId').mean().reset_index()\n",
    "ratings['class'] = ratings.apply(rating_class, axis=1)\n",
    "\n",
    "ratings.sort_values(by = 'rating', ascending=False).head(5)"
   ]
  },
  {
   "cell_type": "code",
   "execution_count": 95,
   "metadata": {},
   "outputs": [
    {
     "data": {
      "image/png": "[encoded data removed]",
      "text/plain": [
       "<matplotlib.figure.Figure at 0x16a15eada58>"
      ]
     },
     "metadata": {},
     "output_type": "display_data"
    }
   ],
   "source": [
    "#изобразим на гистограмме какое количество фильмов обладает высоким, средним и низким классом.\n",
    "movies_count = []\n",
    "movies_count.append(len(ratings[(ratings['class'] == 'low rating')]))\n",
    "movies_count.append(len(ratings[(ratings['class'] == 'middle rating')]))\n",
    "movies_count.append(len(ratings[(ratings['class'] == 'high rating')]))\n",
    "\n",
    "import matplotlib.pyplot as plt\n",
    "\n",
    "plt.bar(['low class', 'middle class', 'high class'], movies_count, color='darkgreen')\n",
    "plt.title('Распределение количества фильмов по их классу')\n",
    "plt.xlabel('Класс фильма')\n",
    "plt.ylabel('Количество фильмов')\n",
    "plt.show()"
   ]
  },
  {
   "cell_type": "code",
   "execution_count": 76,
   "metadata": {},
   "outputs": [],
   "source": [
    "#Задание 3\n",
    "#Посчитайте среднее значение Lifetime киноманов (пользователи, которые поставили 100 и более рейтингов). \n",
    "#Под Lifetime понимается разница между максимальным и минимальным значением timestamp для каждого пользователя.\n",
    "#Ответ дайте в днях.\n",
    "\n",
    "ratings = pd.read_csv('data/ratings.csv')"
   ]
  },
  {
   "cell_type": "code",
   "execution_count": 77,
   "metadata": {},
   "outputs": [],
   "source": [
    "userIds = ratings[['userId', 'rating']].groupby('userId').count()\n",
    "userIds = userIds[userIds['rating']>100]\n",
    "userIds = userIds.reset_index()"
   ]
  },
  {
   "cell_type": "code",
   "execution_count": 78,
   "metadata": {},
   "outputs": [],
   "source": [
    "user_time = ratings[['userId', 'timestamp']].groupby('userId').agg(['min', 'max'])['timestamp']\n",
    "user_time['Lifetime'] = (user_time['max'] - user_time['min'])/86400\n",
    "user_time = user_time['Lifetime']\n",
    "user_time = user_time.reset_index()"
   ]
  },
  {
   "cell_type": "code",
   "execution_count": 79,
   "metadata": {},
   "outputs": [
    {
     "data": {
      "text/html": [
       "<div>\n",
       "<style scoped>\n",
       "    .dataframe tbody tr th:only-of-type {\n",
       "        vertical-align: middle;\n",
       "    }\n",
       "\n",
       "    .dataframe tbody tr th {\n",
       "        vertical-align: top;\n",
       "    }\n",
       "\n",
       "    .dataframe thead th {\n",
       "        text-align: right;\n",
       "    }\n",
       "</style>\n",
       "<table border=\"1\" class=\"dataframe\">\n",
       "  <thead>\n",
       "    <tr style=\"text-align: right;\">\n",
       "      <th></th>\n",
       "      <th>userId</th>\n",
       "      <th>rating</th>\n",
       "      <th>Lifetime</th>\n",
       "    </tr>\n",
       "  </thead>\n",
       "  <tbody>\n",
       "    <tr>\n",
       "      <th>6666</th>\n",
       "      <td>27972</td>\n",
       "      <td>106</td>\n",
       "      <td>0.000012</td>\n",
       "    </tr>\n",
       "    <tr>\n",
       "      <th>6228</th>\n",
       "      <td>26075</td>\n",
       "      <td>121</td>\n",
       "      <td>0.000012</td>\n",
       "    </tr>\n",
       "    <tr>\n",
       "      <th>17960</th>\n",
       "      <td>75796</td>\n",
       "      <td>141</td>\n",
       "      <td>0.000023</td>\n",
       "    </tr>\n",
       "    <tr>\n",
       "      <th>21599</th>\n",
       "      <td>91407</td>\n",
       "      <td>101</td>\n",
       "      <td>0.000023</td>\n",
       "    </tr>\n",
       "    <tr>\n",
       "      <th>64224</th>\n",
       "      <td>269878</td>\n",
       "      <td>121</td>\n",
       "      <td>0.000023</td>\n",
       "    </tr>\n",
       "  </tbody>\n",
       "</table>\n",
       "</div>"
      ],
      "text/plain": [
       "       userId  rating  Lifetime\n",
       "6666    27972     106  0.000012\n",
       "6228    26075     121  0.000012\n",
       "17960   75796     141  0.000023\n",
       "21599   91407     101  0.000023\n",
       "64224  269878     121  0.000023"
      ]
     },
     "execution_count": 79,
     "metadata": {},
     "output_type": "execute_result"
    }
   ],
   "source": [
    "joined = pd.merge(userIds, user_time, on='userId', how='left')\n",
    "joined.sort_values(by = 'Lifetime', ascending=True).head(5)\n",
    "#существуют пользователи, которые за секунды поставили более 100 рейтингов"
   ]
  },
  {
   "cell_type": "code",
   "execution_count": 80,
   "metadata": {},
   "outputs": [],
   "source": [
    "\"\"\"С помощью полученного датафрэйма joined можно, например, посмотреть какое количество\n",
    "пользователей, поставивших более 100 рейтингов, каким облатает Lifetime-ом. Выберем, например, такое распределение\n",
    "(от 0 до 1, от 1 до 5, от 5 до 50, от 50 до 500, от 500) дней. И найдем количество пользователей, которые имеют время жизни \n",
    "в этих пределах\"\"\"\n",
    "\n",
    "users_count = []\n",
    "users_count.append(len(joined[(joined['Lifetime'] < 1)]))\n",
    "users_count.append(len(joined[(joined['Lifetime'] > 1) & (joined['Lifetime'] < 5)]))\n",
    "users_count.append(len(joined[(joined['Lifetime'] > 5) & (joined['Lifetime'] < 50)]))\n",
    "users_count.append(len(joined[(joined['Lifetime'] > 50) & (joined['Lifetime'] < 500)]))\n",
    "users_count.append(len(joined[(joined['Lifetime'] > 500)]))"
   ]
  },
  {
   "cell_type": "code",
   "execution_count": 81,
   "metadata": {},
   "outputs": [],
   "source": [
    "import matplotlib.pyplot as plt"
   ]
  },
  {
   "cell_type": "code",
   "execution_count": 82,
   "metadata": {},
   "outputs": [
    {
     "data": {
      "image/png": "[encoded data removed]",
      "text/plain": [
       "<matplotlib.figure.Figure at 0x16a028371d0>"
      ]
     },
     "metadata": {},
     "output_type": "display_data"
    }
   ],
   "source": [
    "\"\"\"Эти данных можно для наглядности вывести на экран с помощью matplotlib. Видно, что более 20000 пользователей\n",
    "поставили более 100 рейтингов имея Lifetime в пределах дня. Что заметно больше, чем количество пользователей с временем жизни\n",
    "более 500-от дней. \"\"\"\n",
    "\n",
    "plt.bar(['от 0 до 1','от 1 до 5','от 5 до 50','от 50 до 500','от 500'], users_count, color=['darkgreen'])\n",
    "plt.title('Распределение количества юзеров по их Lifetime')\n",
    "plt.xlabel('Lifetime юзера в днях')\n",
    "plt.ylabel('Количество юзеров')\n",
    "plt.show()"
   ]
  },
  {
   "cell_type": "code",
   "execution_count": 83,
   "metadata": {},
   "outputs": [],
   "source": [
    "\"\"\"Задание 4\n",
    "Есть мнение, что \"раньше снимали настоящее кино, не то что сейчас\".\n",
    "Ваша задача проверить это утверждение, используя файлы с рейтингами фильмов из материалов занятия.\n",
    "Т. е. проверить верно ли, что с ростом года выпуска фильма его средний рейтинг становится ниже.\n",
    "\n",
    "При этом мы не будем затрагивать субьективные факторы выставления этих рейтингов, а пройдемся по следующему алгоритму:\n",
    "\n",
    "1. В переменную years запишите список из всех годов с 1950 по 2010.\n",
    "\n",
    "2. Напишите функцию production_year, которая каждой строке из названия фильма выставляет год выпуска.\n",
    "Не все названия фильмов содержат год выпуска в одинаковом формате, поэтому используйте следующий алгоритм:\n",
    "    - для каждой строки пройдите по всем годам списка years\n",
    "    - если номер года присутствует в названии фильма, то функция возвращает этот год как год выпуска\n",
    "    - если ни один из номеров года списка years не встретился в названии фильма, то возвращается 1900 год\n",
    "\n",
    "3. Запишите год выпуска фильма по алгоритму пункта 2 в новый столбец 'year'\n",
    "\n",
    "4. Посчитайте средний рейтинг всех фильмов для каждого значения столбца 'year'\n",
    "и отсортируйте результат по убыванию рейтинга\"\"\"\n",
    "\n",
    "import pandas as pd\n",
    "\n",
    "movies = pd.read_csv('data/movies.csv')\n",
    "ratings = pd.read_csv('data/ratings.csv')"
   ]
  },
  {
   "cell_type": "code",
   "execution_count": 84,
   "metadata": {},
   "outputs": [],
   "source": [
    "years = list(range(1950, 2010))\n",
    "\n",
    "def production_year(row):\n",
    "    for year in years:\n",
    "        if str(year) in row['title']:\n",
    "            return year\n",
    "    return 1900\n",
    "\n",
    "movies['year'] = movies.apply(production_year, axis=1)\n",
    "movies = movies[(movies['year'] >= 1950) & (movies['year'] <= 2010)]\n",
    "\n",
    "joined = movies.merge(ratings, on='movieId', how='left')\n",
    "joined = joined[['rating', 'year']].groupby('year').mean()"
   ]
  },
  {
   "cell_type": "code",
   "execution_count": 85,
   "metadata": {},
   "outputs": [
    {
     "data": {
      "image/png": "[encoded data removed]",
      "text/plain": [
       "<matplotlib.figure.Figure at 0x16a02323f28>"
      ]
     },
     "metadata": {},
     "output_type": "display_data"
    }
   ],
   "source": [
    "joined = joined.reset_index()\n",
    "\n",
    "plt.plot(joined['year'], joined['rating'], c='k')\n",
    "plt.title('Распределение cреднего рейтинга фильмов по годам')\n",
    "plt.xlabel('Годы')\n",
    "plt.ylabel('Средний рейтинг')\n",
    "plt.ylim(bottom = 3.2, top = 4)\n",
    "plt.show()"
   ]
  },
  {
   "cell_type": "markdown",
   "metadata": {},
   "source": [
    "Как видно, существует некоторая тенденция к уменьшению рейтинга"
   ]
  },
  {
   "cell_type": "code",
   "execution_count": 86,
   "metadata": {},
   "outputs": [
    {
     "data": {
      "text/html": [
       "<div>\n",
       "<style scoped>\n",
       "    .dataframe tbody tr th:only-of-type {\n",
       "        vertical-align: middle;\n",
       "    }\n",
       "\n",
       "    .dataframe tbody tr th {\n",
       "        vertical-align: top;\n",
       "    }\n",
       "\n",
       "    .dataframe thead th {\n",
       "        text-align: right;\n",
       "    }\n",
       "</style>\n",
       "<table border=\"1\" class=\"dataframe\">\n",
       "  <thead>\n",
       "    <tr style=\"text-align: right;\">\n",
       "      <th></th>\n",
       "      <th>year</th>\n",
       "      <th>rating</th>\n",
       "    </tr>\n",
       "  </thead>\n",
       "  <tbody>\n",
       "    <tr>\n",
       "      <th>46</th>\n",
       "      <td>1996</td>\n",
       "      <td>3.352208</td>\n",
       "    </tr>\n",
       "    <tr>\n",
       "      <th>47</th>\n",
       "      <td>1997</td>\n",
       "      <td>3.402396</td>\n",
       "    </tr>\n",
       "    <tr>\n",
       "      <th>50</th>\n",
       "      <td>2000</td>\n",
       "      <td>3.415536</td>\n",
       "    </tr>\n",
       "    <tr>\n",
       "      <th>40</th>\n",
       "      <td>1990</td>\n",
       "      <td>3.429585</td>\n",
       "    </tr>\n",
       "    <tr>\n",
       "      <th>55</th>\n",
       "      <td>2005</td>\n",
       "      <td>3.436769</td>\n",
       "    </tr>\n",
       "    <tr>\n",
       "      <th>48</th>\n",
       "      <td>1998</td>\n",
       "      <td>3.444026</td>\n",
       "    </tr>\n",
       "    <tr>\n",
       "      <th>42</th>\n",
       "      <td>1992</td>\n",
       "      <td>3.450034</td>\n",
       "    </tr>\n",
       "  </tbody>\n",
       "</table>\n",
       "</div>"
      ],
      "text/plain": [
       "    year    rating\n",
       "46  1996  3.352208\n",
       "47  1997  3.402396\n",
       "50  2000  3.415536\n",
       "40  1990  3.429585\n",
       "55  2005  3.436769\n",
       "48  1998  3.444026\n",
       "42  1992  3.450034"
      ]
     },
     "execution_count": 86,
     "metadata": {},
     "output_type": "execute_result"
    }
   ],
   "source": [
    "joined.sort_values(by = 'rating', ascending=True).head(7)"
   ]
  },
  {
   "cell_type": "code",
   "execution_count": null,
   "metadata": {},
   "outputs": [],
   "source": []
  }
 ],
 "metadata": {
  "kernelspec": {
   "display_name": "Python 3",
   "language": "python",
   "name": "python3"
  },
  "language_info": {
   "codemirror_mode": {
    "name": "ipython",
    "version": 3
   },
   "file_extension": ".py",
   "mimetype": "text/x-python",
   "name": "python",
   "nbconvert_exporter": "python",
   "pygments_lexer": "ipython3",
   "version": "3.6.4"
  }
 },
 "nbformat": 4,
 "nbformat_minor": 2
}
